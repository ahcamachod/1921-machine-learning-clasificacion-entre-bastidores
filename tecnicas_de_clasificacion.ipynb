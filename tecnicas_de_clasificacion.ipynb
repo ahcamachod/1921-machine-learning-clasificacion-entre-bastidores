{
  "nbformat": 4,
  "nbformat_minor": 0,
  "metadata": {
    "colab": {
      "name": "tecnicas_de_clasificacion.ipynb",
      "provenance": [],
      "authorship_tag": "ABX9TyPYlOl/Q44AUYhsEUw8/60l",
      "include_colab_link": true
    },
    "kernelspec": {
      "name": "python3",
      "display_name": "Python 3"
    },
    "language_info": {
      "name": "python"
    }
  },
  "cells": [
    {
      "cell_type": "markdown",
      "metadata": {
        "id": "view-in-github",
        "colab_type": "text"
      },
      "source": [
        "<a href=\"https://colab.research.google.com/github/ahcamachod/1921-machine-learning-clasificacion-entre-bastidores/blob/aula-3/tecnicas_de_clasificacion.ipynb\" target=\"_parent\"><img src=\"https://colab.research.google.com/assets/colab-badge.svg\" alt=\"Open In Colab\"/></a>"
      ]
    },
    {
      "cell_type": "markdown",
      "source": [
        "# **Machine Learning: Clasificación entre Bastidores**\n",
        "\n",
        "En este notebook estaremos desarrollando varias técnicas de clasificación para un conjunto de datos de una empresa de telecomunicaciones.\n",
        "\n",
        "En caso de que desees consultar el dataset original, este se encuentra en el siguiente enlace:\n",
        "https://www.kaggle.com/datasets/mnassrib/telecom-churn-datasets?select=churn-bigml-20.csv"
      ],
      "metadata": {
        "id": "hvMNh3RDG2zs"
      }
    },
    {
      "cell_type": "markdown",
      "source": [
        "## Aula 1"
      ],
      "metadata": {
        "id": "YJ89h20BIKmV"
      }
    },
    {
      "cell_type": "markdown",
      "source": [
        "### 1.2 Importando los datos"
      ],
      "metadata": {
        "id": "H1J-9b_OIN1M"
      }
    },
    {
      "cell_type": "code",
      "source": [
        "from google.colab import drive\n",
        "\n",
        "drive.mount('/content/drive')"
      ],
      "metadata": {
        "colab": {
          "base_uri": "https://localhost:8080/"
        },
        "id": "iggI9QJ1IJi0",
        "outputId": "60d97321-6d89-4984-e34a-fa2ebd76f7c7"
      },
      "execution_count": 1,
      "outputs": [
        {
          "output_type": "stream",
          "name": "stdout",
          "text": [
            "Mounted at /content/drive\n"
          ]
        }
      ]
    },
    {
      "cell_type": "code",
      "source": [
        "import pandas as pd \n",
        "\n",
        "datos = pd.read_csv('/content/drive/MyDrive/clasificacion/customer_churn.csv')\n",
        "datos.head()"
      ],
      "metadata": {
        "colab": {
          "base_uri": "https://localhost:8080/",
          "height": 270
        },
        "id": "-6xP_Y_UIRAA",
        "outputId": "c1a358cd-d5eb-4537-f761-968434d7599b"
      },
      "execution_count": 2,
      "outputs": [
        {
          "output_type": "execute_result",
          "data": {
            "text/plain": [
              "   Mayor65Anos Conyuge Dependientes  MesesDeContrato TelefonoFijo  \\\n",
              "0            0      Si           No                1           No   \n",
              "1            0      No           No               34           Si   \n",
              "2            0      No           No                2           Si   \n",
              "3            0      No           No               45           No   \n",
              "4            0      No           No                2           Si   \n",
              "\n",
              "  VariasLineasTelefonicas ServicioDeInternet SeguridadOnline BackupOnline  \\\n",
              "0   SinServicioTelefonico                DSL              No           Si   \n",
              "1                      No                DSL              Si           No   \n",
              "2                      No                DSL              Si           Si   \n",
              "3   SinServicioTelefonico                DSL              Si           No   \n",
              "4                      No        FibraOptica              No           No   \n",
              "\n",
              "  SeguroEnDispositivo SoporteTecnico TVaCable StreamingDePeliculas  \\\n",
              "0                  No             No       No                   No   \n",
              "1                  Si             No       No                   No   \n",
              "2                  No             No       No                   No   \n",
              "3                  Si             Si       No                   No   \n",
              "4                  No             No       No                   No   \n",
              "\n",
              "  TipoDeContrato PagoOnline       FormaDePago  CuentaMensual Churn  \n",
              "0        Mensual         Si     ChequeDigital          29.85    No  \n",
              "1          Anual         No       ChequePapel          56.95    No  \n",
              "2        Mensual         Si       ChequePapel          53.85    Si  \n",
              "3          Anual         No  DebitoAutomatico          42.30    No  \n",
              "4        Mensual         Si     ChequeDigital          70.70    Si  "
            ],
            "text/html": [
              "\n",
              "  <div id=\"df-e4ba2cb3-b2c6-4fda-92a6-2f24af6b7147\">\n",
              "    <div class=\"colab-df-container\">\n",
              "      <div>\n",
              "<style scoped>\n",
              "    .dataframe tbody tr th:only-of-type {\n",
              "        vertical-align: middle;\n",
              "    }\n",
              "\n",
              "    .dataframe tbody tr th {\n",
              "        vertical-align: top;\n",
              "    }\n",
              "\n",
              "    .dataframe thead th {\n",
              "        text-align: right;\n",
              "    }\n",
              "</style>\n",
              "<table border=\"1\" class=\"dataframe\">\n",
              "  <thead>\n",
              "    <tr style=\"text-align: right;\">\n",
              "      <th></th>\n",
              "      <th>Mayor65Anos</th>\n",
              "      <th>Conyuge</th>\n",
              "      <th>Dependientes</th>\n",
              "      <th>MesesDeContrato</th>\n",
              "      <th>TelefonoFijo</th>\n",
              "      <th>VariasLineasTelefonicas</th>\n",
              "      <th>ServicioDeInternet</th>\n",
              "      <th>SeguridadOnline</th>\n",
              "      <th>BackupOnline</th>\n",
              "      <th>SeguroEnDispositivo</th>\n",
              "      <th>SoporteTecnico</th>\n",
              "      <th>TVaCable</th>\n",
              "      <th>StreamingDePeliculas</th>\n",
              "      <th>TipoDeContrato</th>\n",
              "      <th>PagoOnline</th>\n",
              "      <th>FormaDePago</th>\n",
              "      <th>CuentaMensual</th>\n",
              "      <th>Churn</th>\n",
              "    </tr>\n",
              "  </thead>\n",
              "  <tbody>\n",
              "    <tr>\n",
              "      <th>0</th>\n",
              "      <td>0</td>\n",
              "      <td>Si</td>\n",
              "      <td>No</td>\n",
              "      <td>1</td>\n",
              "      <td>No</td>\n",
              "      <td>SinServicioTelefonico</td>\n",
              "      <td>DSL</td>\n",
              "      <td>No</td>\n",
              "      <td>Si</td>\n",
              "      <td>No</td>\n",
              "      <td>No</td>\n",
              "      <td>No</td>\n",
              "      <td>No</td>\n",
              "      <td>Mensual</td>\n",
              "      <td>Si</td>\n",
              "      <td>ChequeDigital</td>\n",
              "      <td>29.85</td>\n",
              "      <td>No</td>\n",
              "    </tr>\n",
              "    <tr>\n",
              "      <th>1</th>\n",
              "      <td>0</td>\n",
              "      <td>No</td>\n",
              "      <td>No</td>\n",
              "      <td>34</td>\n",
              "      <td>Si</td>\n",
              "      <td>No</td>\n",
              "      <td>DSL</td>\n",
              "      <td>Si</td>\n",
              "      <td>No</td>\n",
              "      <td>Si</td>\n",
              "      <td>No</td>\n",
              "      <td>No</td>\n",
              "      <td>No</td>\n",
              "      <td>Anual</td>\n",
              "      <td>No</td>\n",
              "      <td>ChequePapel</td>\n",
              "      <td>56.95</td>\n",
              "      <td>No</td>\n",
              "    </tr>\n",
              "    <tr>\n",
              "      <th>2</th>\n",
              "      <td>0</td>\n",
              "      <td>No</td>\n",
              "      <td>No</td>\n",
              "      <td>2</td>\n",
              "      <td>Si</td>\n",
              "      <td>No</td>\n",
              "      <td>DSL</td>\n",
              "      <td>Si</td>\n",
              "      <td>Si</td>\n",
              "      <td>No</td>\n",
              "      <td>No</td>\n",
              "      <td>No</td>\n",
              "      <td>No</td>\n",
              "      <td>Mensual</td>\n",
              "      <td>Si</td>\n",
              "      <td>ChequePapel</td>\n",
              "      <td>53.85</td>\n",
              "      <td>Si</td>\n",
              "    </tr>\n",
              "    <tr>\n",
              "      <th>3</th>\n",
              "      <td>0</td>\n",
              "      <td>No</td>\n",
              "      <td>No</td>\n",
              "      <td>45</td>\n",
              "      <td>No</td>\n",
              "      <td>SinServicioTelefonico</td>\n",
              "      <td>DSL</td>\n",
              "      <td>Si</td>\n",
              "      <td>No</td>\n",
              "      <td>Si</td>\n",
              "      <td>Si</td>\n",
              "      <td>No</td>\n",
              "      <td>No</td>\n",
              "      <td>Anual</td>\n",
              "      <td>No</td>\n",
              "      <td>DebitoAutomatico</td>\n",
              "      <td>42.30</td>\n",
              "      <td>No</td>\n",
              "    </tr>\n",
              "    <tr>\n",
              "      <th>4</th>\n",
              "      <td>0</td>\n",
              "      <td>No</td>\n",
              "      <td>No</td>\n",
              "      <td>2</td>\n",
              "      <td>Si</td>\n",
              "      <td>No</td>\n",
              "      <td>FibraOptica</td>\n",
              "      <td>No</td>\n",
              "      <td>No</td>\n",
              "      <td>No</td>\n",
              "      <td>No</td>\n",
              "      <td>No</td>\n",
              "      <td>No</td>\n",
              "      <td>Mensual</td>\n",
              "      <td>Si</td>\n",
              "      <td>ChequeDigital</td>\n",
              "      <td>70.70</td>\n",
              "      <td>Si</td>\n",
              "    </tr>\n",
              "  </tbody>\n",
              "</table>\n",
              "</div>\n",
              "      <button class=\"colab-df-convert\" onclick=\"convertToInteractive('df-e4ba2cb3-b2c6-4fda-92a6-2f24af6b7147')\"\n",
              "              title=\"Convert this dataframe to an interactive table.\"\n",
              "              style=\"display:none;\">\n",
              "        \n",
              "  <svg xmlns=\"http://www.w3.org/2000/svg\" height=\"24px\"viewBox=\"0 0 24 24\"\n",
              "       width=\"24px\">\n",
              "    <path d=\"M0 0h24v24H0V0z\" fill=\"none\"/>\n",
              "    <path d=\"M18.56 5.44l.94 2.06.94-2.06 2.06-.94-2.06-.94-.94-2.06-.94 2.06-2.06.94zm-11 1L8.5 8.5l.94-2.06 2.06-.94-2.06-.94L8.5 2.5l-.94 2.06-2.06.94zm10 10l.94 2.06.94-2.06 2.06-.94-2.06-.94-.94-2.06-.94 2.06-2.06.94z\"/><path d=\"M17.41 7.96l-1.37-1.37c-.4-.4-.92-.59-1.43-.59-.52 0-1.04.2-1.43.59L10.3 9.45l-7.72 7.72c-.78.78-.78 2.05 0 2.83L4 21.41c.39.39.9.59 1.41.59.51 0 1.02-.2 1.41-.59l7.78-7.78 2.81-2.81c.8-.78.8-2.07 0-2.86zM5.41 20L4 18.59l7.72-7.72 1.47 1.35L5.41 20z\"/>\n",
              "  </svg>\n",
              "      </button>\n",
              "      \n",
              "  <style>\n",
              "    .colab-df-container {\n",
              "      display:flex;\n",
              "      flex-wrap:wrap;\n",
              "      gap: 12px;\n",
              "    }\n",
              "\n",
              "    .colab-df-convert {\n",
              "      background-color: #E8F0FE;\n",
              "      border: none;\n",
              "      border-radius: 50%;\n",
              "      cursor: pointer;\n",
              "      display: none;\n",
              "      fill: #1967D2;\n",
              "      height: 32px;\n",
              "      padding: 0 0 0 0;\n",
              "      width: 32px;\n",
              "    }\n",
              "\n",
              "    .colab-df-convert:hover {\n",
              "      background-color: #E2EBFA;\n",
              "      box-shadow: 0px 1px 2px rgba(60, 64, 67, 0.3), 0px 1px 3px 1px rgba(60, 64, 67, 0.15);\n",
              "      fill: #174EA6;\n",
              "    }\n",
              "\n",
              "    [theme=dark] .colab-df-convert {\n",
              "      background-color: #3B4455;\n",
              "      fill: #D2E3FC;\n",
              "    }\n",
              "\n",
              "    [theme=dark] .colab-df-convert:hover {\n",
              "      background-color: #434B5C;\n",
              "      box-shadow: 0px 1px 3px 1px rgba(0, 0, 0, 0.15);\n",
              "      filter: drop-shadow(0px 1px 2px rgba(0, 0, 0, 0.3));\n",
              "      fill: #FFFFFF;\n",
              "    }\n",
              "  </style>\n",
              "\n",
              "      <script>\n",
              "        const buttonEl =\n",
              "          document.querySelector('#df-e4ba2cb3-b2c6-4fda-92a6-2f24af6b7147 button.colab-df-convert');\n",
              "        buttonEl.style.display =\n",
              "          google.colab.kernel.accessAllowed ? 'block' : 'none';\n",
              "\n",
              "        async function convertToInteractive(key) {\n",
              "          const element = document.querySelector('#df-e4ba2cb3-b2c6-4fda-92a6-2f24af6b7147');\n",
              "          const dataTable =\n",
              "            await google.colab.kernel.invokeFunction('convertToInteractive',\n",
              "                                                     [key], {});\n",
              "          if (!dataTable) return;\n",
              "\n",
              "          const docLinkHtml = 'Like what you see? Visit the ' +\n",
              "            '<a target=\"_blank\" href=https://colab.research.google.com/notebooks/data_table.ipynb>data table notebook</a>'\n",
              "            + ' to learn more about interactive tables.';\n",
              "          element.innerHTML = '';\n",
              "          dataTable['output_type'] = 'display_data';\n",
              "          await google.colab.output.renderOutput(dataTable, element);\n",
              "          const docLink = document.createElement('div');\n",
              "          docLink.innerHTML = docLinkHtml;\n",
              "          element.appendChild(docLink);\n",
              "        }\n",
              "      </script>\n",
              "    </div>\n",
              "  </div>\n",
              "  "
            ]
          },
          "metadata": {},
          "execution_count": 2
        }
      ]
    },
    {
      "cell_type": "code",
      "source": [
        "datos.shape"
      ],
      "metadata": {
        "colab": {
          "base_uri": "https://localhost:8080/"
        },
        "id": "3QVnGphrL0e7",
        "outputId": "67d98e66-2476-4052-cdc7-227f52ab623a"
      },
      "execution_count": 3,
      "outputs": [
        {
          "output_type": "execute_result",
          "data": {
            "text/plain": [
              "(7043, 18)"
            ]
          },
          "metadata": {},
          "execution_count": 3
        }
      ]
    },
    {
      "cell_type": "markdown",
      "source": [
        "### 1.3 Tipos de variables"
      ],
      "metadata": {
        "id": "zc-qSI8yIVc7"
      }
    },
    {
      "cell_type": "code",
      "source": [
        "datos.head()"
      ],
      "metadata": {
        "colab": {
          "base_uri": "https://localhost:8080/",
          "height": 270
        },
        "id": "ow_iFIGuZt1q",
        "outputId": "844c8a74-efa2-41d8-9828-ba0945956524"
      },
      "execution_count": 4,
      "outputs": [
        {
          "output_type": "execute_result",
          "data": {
            "text/plain": [
              "   Mayor65Anos Conyuge Dependientes  MesesDeContrato TelefonoFijo  \\\n",
              "0            0      Si           No                1           No   \n",
              "1            0      No           No               34           Si   \n",
              "2            0      No           No                2           Si   \n",
              "3            0      No           No               45           No   \n",
              "4            0      No           No                2           Si   \n",
              "\n",
              "  VariasLineasTelefonicas ServicioDeInternet SeguridadOnline BackupOnline  \\\n",
              "0   SinServicioTelefonico                DSL              No           Si   \n",
              "1                      No                DSL              Si           No   \n",
              "2                      No                DSL              Si           Si   \n",
              "3   SinServicioTelefonico                DSL              Si           No   \n",
              "4                      No        FibraOptica              No           No   \n",
              "\n",
              "  SeguroEnDispositivo SoporteTecnico TVaCable StreamingDePeliculas  \\\n",
              "0                  No             No       No                   No   \n",
              "1                  Si             No       No                   No   \n",
              "2                  No             No       No                   No   \n",
              "3                  Si             Si       No                   No   \n",
              "4                  No             No       No                   No   \n",
              "\n",
              "  TipoDeContrato PagoOnline       FormaDePago  CuentaMensual Churn  \n",
              "0        Mensual         Si     ChequeDigital          29.85    No  \n",
              "1          Anual         No       ChequePapel          56.95    No  \n",
              "2        Mensual         Si       ChequePapel          53.85    Si  \n",
              "3          Anual         No  DebitoAutomatico          42.30    No  \n",
              "4        Mensual         Si     ChequeDigital          70.70    Si  "
            ],
            "text/html": [
              "\n",
              "  <div id=\"df-e1580c59-f9aa-4771-9e7c-8b61f252053c\">\n",
              "    <div class=\"colab-df-container\">\n",
              "      <div>\n",
              "<style scoped>\n",
              "    .dataframe tbody tr th:only-of-type {\n",
              "        vertical-align: middle;\n",
              "    }\n",
              "\n",
              "    .dataframe tbody tr th {\n",
              "        vertical-align: top;\n",
              "    }\n",
              "\n",
              "    .dataframe thead th {\n",
              "        text-align: right;\n",
              "    }\n",
              "</style>\n",
              "<table border=\"1\" class=\"dataframe\">\n",
              "  <thead>\n",
              "    <tr style=\"text-align: right;\">\n",
              "      <th></th>\n",
              "      <th>Mayor65Anos</th>\n",
              "      <th>Conyuge</th>\n",
              "      <th>Dependientes</th>\n",
              "      <th>MesesDeContrato</th>\n",
              "      <th>TelefonoFijo</th>\n",
              "      <th>VariasLineasTelefonicas</th>\n",
              "      <th>ServicioDeInternet</th>\n",
              "      <th>SeguridadOnline</th>\n",
              "      <th>BackupOnline</th>\n",
              "      <th>SeguroEnDispositivo</th>\n",
              "      <th>SoporteTecnico</th>\n",
              "      <th>TVaCable</th>\n",
              "      <th>StreamingDePeliculas</th>\n",
              "      <th>TipoDeContrato</th>\n",
              "      <th>PagoOnline</th>\n",
              "      <th>FormaDePago</th>\n",
              "      <th>CuentaMensual</th>\n",
              "      <th>Churn</th>\n",
              "    </tr>\n",
              "  </thead>\n",
              "  <tbody>\n",
              "    <tr>\n",
              "      <th>0</th>\n",
              "      <td>0</td>\n",
              "      <td>Si</td>\n",
              "      <td>No</td>\n",
              "      <td>1</td>\n",
              "      <td>No</td>\n",
              "      <td>SinServicioTelefonico</td>\n",
              "      <td>DSL</td>\n",
              "      <td>No</td>\n",
              "      <td>Si</td>\n",
              "      <td>No</td>\n",
              "      <td>No</td>\n",
              "      <td>No</td>\n",
              "      <td>No</td>\n",
              "      <td>Mensual</td>\n",
              "      <td>Si</td>\n",
              "      <td>ChequeDigital</td>\n",
              "      <td>29.85</td>\n",
              "      <td>No</td>\n",
              "    </tr>\n",
              "    <tr>\n",
              "      <th>1</th>\n",
              "      <td>0</td>\n",
              "      <td>No</td>\n",
              "      <td>No</td>\n",
              "      <td>34</td>\n",
              "      <td>Si</td>\n",
              "      <td>No</td>\n",
              "      <td>DSL</td>\n",
              "      <td>Si</td>\n",
              "      <td>No</td>\n",
              "      <td>Si</td>\n",
              "      <td>No</td>\n",
              "      <td>No</td>\n",
              "      <td>No</td>\n",
              "      <td>Anual</td>\n",
              "      <td>No</td>\n",
              "      <td>ChequePapel</td>\n",
              "      <td>56.95</td>\n",
              "      <td>No</td>\n",
              "    </tr>\n",
              "    <tr>\n",
              "      <th>2</th>\n",
              "      <td>0</td>\n",
              "      <td>No</td>\n",
              "      <td>No</td>\n",
              "      <td>2</td>\n",
              "      <td>Si</td>\n",
              "      <td>No</td>\n",
              "      <td>DSL</td>\n",
              "      <td>Si</td>\n",
              "      <td>Si</td>\n",
              "      <td>No</td>\n",
              "      <td>No</td>\n",
              "      <td>No</td>\n",
              "      <td>No</td>\n",
              "      <td>Mensual</td>\n",
              "      <td>Si</td>\n",
              "      <td>ChequePapel</td>\n",
              "      <td>53.85</td>\n",
              "      <td>Si</td>\n",
              "    </tr>\n",
              "    <tr>\n",
              "      <th>3</th>\n",
              "      <td>0</td>\n",
              "      <td>No</td>\n",
              "      <td>No</td>\n",
              "      <td>45</td>\n",
              "      <td>No</td>\n",
              "      <td>SinServicioTelefonico</td>\n",
              "      <td>DSL</td>\n",
              "      <td>Si</td>\n",
              "      <td>No</td>\n",
              "      <td>Si</td>\n",
              "      <td>Si</td>\n",
              "      <td>No</td>\n",
              "      <td>No</td>\n",
              "      <td>Anual</td>\n",
              "      <td>No</td>\n",
              "      <td>DebitoAutomatico</td>\n",
              "      <td>42.30</td>\n",
              "      <td>No</td>\n",
              "    </tr>\n",
              "    <tr>\n",
              "      <th>4</th>\n",
              "      <td>0</td>\n",
              "      <td>No</td>\n",
              "      <td>No</td>\n",
              "      <td>2</td>\n",
              "      <td>Si</td>\n",
              "      <td>No</td>\n",
              "      <td>FibraOptica</td>\n",
              "      <td>No</td>\n",
              "      <td>No</td>\n",
              "      <td>No</td>\n",
              "      <td>No</td>\n",
              "      <td>No</td>\n",
              "      <td>No</td>\n",
              "      <td>Mensual</td>\n",
              "      <td>Si</td>\n",
              "      <td>ChequeDigital</td>\n",
              "      <td>70.70</td>\n",
              "      <td>Si</td>\n",
              "    </tr>\n",
              "  </tbody>\n",
              "</table>\n",
              "</div>\n",
              "      <button class=\"colab-df-convert\" onclick=\"convertToInteractive('df-e1580c59-f9aa-4771-9e7c-8b61f252053c')\"\n",
              "              title=\"Convert this dataframe to an interactive table.\"\n",
              "              style=\"display:none;\">\n",
              "        \n",
              "  <svg xmlns=\"http://www.w3.org/2000/svg\" height=\"24px\"viewBox=\"0 0 24 24\"\n",
              "       width=\"24px\">\n",
              "    <path d=\"M0 0h24v24H0V0z\" fill=\"none\"/>\n",
              "    <path d=\"M18.56 5.44l.94 2.06.94-2.06 2.06-.94-2.06-.94-.94-2.06-.94 2.06-2.06.94zm-11 1L8.5 8.5l.94-2.06 2.06-.94-2.06-.94L8.5 2.5l-.94 2.06-2.06.94zm10 10l.94 2.06.94-2.06 2.06-.94-2.06-.94-.94-2.06-.94 2.06-2.06.94z\"/><path d=\"M17.41 7.96l-1.37-1.37c-.4-.4-.92-.59-1.43-.59-.52 0-1.04.2-1.43.59L10.3 9.45l-7.72 7.72c-.78.78-.78 2.05 0 2.83L4 21.41c.39.39.9.59 1.41.59.51 0 1.02-.2 1.41-.59l7.78-7.78 2.81-2.81c.8-.78.8-2.07 0-2.86zM5.41 20L4 18.59l7.72-7.72 1.47 1.35L5.41 20z\"/>\n",
              "  </svg>\n",
              "      </button>\n",
              "      \n",
              "  <style>\n",
              "    .colab-df-container {\n",
              "      display:flex;\n",
              "      flex-wrap:wrap;\n",
              "      gap: 12px;\n",
              "    }\n",
              "\n",
              "    .colab-df-convert {\n",
              "      background-color: #E8F0FE;\n",
              "      border: none;\n",
              "      border-radius: 50%;\n",
              "      cursor: pointer;\n",
              "      display: none;\n",
              "      fill: #1967D2;\n",
              "      height: 32px;\n",
              "      padding: 0 0 0 0;\n",
              "      width: 32px;\n",
              "    }\n",
              "\n",
              "    .colab-df-convert:hover {\n",
              "      background-color: #E2EBFA;\n",
              "      box-shadow: 0px 1px 2px rgba(60, 64, 67, 0.3), 0px 1px 3px 1px rgba(60, 64, 67, 0.15);\n",
              "      fill: #174EA6;\n",
              "    }\n",
              "\n",
              "    [theme=dark] .colab-df-convert {\n",
              "      background-color: #3B4455;\n",
              "      fill: #D2E3FC;\n",
              "    }\n",
              "\n",
              "    [theme=dark] .colab-df-convert:hover {\n",
              "      background-color: #434B5C;\n",
              "      box-shadow: 0px 1px 3px 1px rgba(0, 0, 0, 0.15);\n",
              "      filter: drop-shadow(0px 1px 2px rgba(0, 0, 0, 0.3));\n",
              "      fill: #FFFFFF;\n",
              "    }\n",
              "  </style>\n",
              "\n",
              "      <script>\n",
              "        const buttonEl =\n",
              "          document.querySelector('#df-e1580c59-f9aa-4771-9e7c-8b61f252053c button.colab-df-convert');\n",
              "        buttonEl.style.display =\n",
              "          google.colab.kernel.accessAllowed ? 'block' : 'none';\n",
              "\n",
              "        async function convertToInteractive(key) {\n",
              "          const element = document.querySelector('#df-e1580c59-f9aa-4771-9e7c-8b61f252053c');\n",
              "          const dataTable =\n",
              "            await google.colab.kernel.invokeFunction('convertToInteractive',\n",
              "                                                     [key], {});\n",
              "          if (!dataTable) return;\n",
              "\n",
              "          const docLinkHtml = 'Like what you see? Visit the ' +\n",
              "            '<a target=\"_blank\" href=https://colab.research.google.com/notebooks/data_table.ipynb>data table notebook</a>'\n",
              "            + ' to learn more about interactive tables.';\n",
              "          element.innerHTML = '';\n",
              "          dataTable['output_type'] = 'display_data';\n",
              "          await google.colab.output.renderOutput(dataTable, element);\n",
              "          const docLink = document.createElement('div');\n",
              "          docLink.innerHTML = docLinkHtml;\n",
              "          element.appendChild(docLink);\n",
              "        }\n",
              "      </script>\n",
              "    </div>\n",
              "  </div>\n",
              "  "
            ]
          },
          "metadata": {},
          "execution_count": 4
        }
      ]
    },
    {
      "cell_type": "code",
      "source": [
        "traduccion = {'Si':1, 'No':0}\n",
        "\n",
        "datos_modificados = datos[['Conyuge','Dependientes',\n",
        "                           'TelefonoFijo','PagoOnline','Churn']].replace(traduccion)\n",
        "\n",
        "datos_modificados.head()"
      ],
      "metadata": {
        "colab": {
          "base_uri": "https://localhost:8080/",
          "height": 206
        },
        "id": "sPjyO1NzZt-B",
        "outputId": "bc4a8e7d-3e41-4a90-f87e-e1ca861d2a9a"
      },
      "execution_count": 5,
      "outputs": [
        {
          "output_type": "execute_result",
          "data": {
            "text/plain": [
              "   Conyuge  Dependientes  TelefonoFijo  PagoOnline  Churn\n",
              "0        1             0             0           1      0\n",
              "1        0             0             1           0      0\n",
              "2        0             0             1           1      1\n",
              "3        0             0             0           0      0\n",
              "4        0             0             1           1      1"
            ],
            "text/html": [
              "\n",
              "  <div id=\"df-d3ce913f-ca46-45f0-85fa-383a740a1a30\">\n",
              "    <div class=\"colab-df-container\">\n",
              "      <div>\n",
              "<style scoped>\n",
              "    .dataframe tbody tr th:only-of-type {\n",
              "        vertical-align: middle;\n",
              "    }\n",
              "\n",
              "    .dataframe tbody tr th {\n",
              "        vertical-align: top;\n",
              "    }\n",
              "\n",
              "    .dataframe thead th {\n",
              "        text-align: right;\n",
              "    }\n",
              "</style>\n",
              "<table border=\"1\" class=\"dataframe\">\n",
              "  <thead>\n",
              "    <tr style=\"text-align: right;\">\n",
              "      <th></th>\n",
              "      <th>Conyuge</th>\n",
              "      <th>Dependientes</th>\n",
              "      <th>TelefonoFijo</th>\n",
              "      <th>PagoOnline</th>\n",
              "      <th>Churn</th>\n",
              "    </tr>\n",
              "  </thead>\n",
              "  <tbody>\n",
              "    <tr>\n",
              "      <th>0</th>\n",
              "      <td>1</td>\n",
              "      <td>0</td>\n",
              "      <td>0</td>\n",
              "      <td>1</td>\n",
              "      <td>0</td>\n",
              "    </tr>\n",
              "    <tr>\n",
              "      <th>1</th>\n",
              "      <td>0</td>\n",
              "      <td>0</td>\n",
              "      <td>1</td>\n",
              "      <td>0</td>\n",
              "      <td>0</td>\n",
              "    </tr>\n",
              "    <tr>\n",
              "      <th>2</th>\n",
              "      <td>0</td>\n",
              "      <td>0</td>\n",
              "      <td>1</td>\n",
              "      <td>1</td>\n",
              "      <td>1</td>\n",
              "    </tr>\n",
              "    <tr>\n",
              "      <th>3</th>\n",
              "      <td>0</td>\n",
              "      <td>0</td>\n",
              "      <td>0</td>\n",
              "      <td>0</td>\n",
              "      <td>0</td>\n",
              "    </tr>\n",
              "    <tr>\n",
              "      <th>4</th>\n",
              "      <td>0</td>\n",
              "      <td>0</td>\n",
              "      <td>1</td>\n",
              "      <td>1</td>\n",
              "      <td>1</td>\n",
              "    </tr>\n",
              "  </tbody>\n",
              "</table>\n",
              "</div>\n",
              "      <button class=\"colab-df-convert\" onclick=\"convertToInteractive('df-d3ce913f-ca46-45f0-85fa-383a740a1a30')\"\n",
              "              title=\"Convert this dataframe to an interactive table.\"\n",
              "              style=\"display:none;\">\n",
              "        \n",
              "  <svg xmlns=\"http://www.w3.org/2000/svg\" height=\"24px\"viewBox=\"0 0 24 24\"\n",
              "       width=\"24px\">\n",
              "    <path d=\"M0 0h24v24H0V0z\" fill=\"none\"/>\n",
              "    <path d=\"M18.56 5.44l.94 2.06.94-2.06 2.06-.94-2.06-.94-.94-2.06-.94 2.06-2.06.94zm-11 1L8.5 8.5l.94-2.06 2.06-.94-2.06-.94L8.5 2.5l-.94 2.06-2.06.94zm10 10l.94 2.06.94-2.06 2.06-.94-2.06-.94-.94-2.06-.94 2.06-2.06.94z\"/><path d=\"M17.41 7.96l-1.37-1.37c-.4-.4-.92-.59-1.43-.59-.52 0-1.04.2-1.43.59L10.3 9.45l-7.72 7.72c-.78.78-.78 2.05 0 2.83L4 21.41c.39.39.9.59 1.41.59.51 0 1.02-.2 1.41-.59l7.78-7.78 2.81-2.81c.8-.78.8-2.07 0-2.86zM5.41 20L4 18.59l7.72-7.72 1.47 1.35L5.41 20z\"/>\n",
              "  </svg>\n",
              "      </button>\n",
              "      \n",
              "  <style>\n",
              "    .colab-df-container {\n",
              "      display:flex;\n",
              "      flex-wrap:wrap;\n",
              "      gap: 12px;\n",
              "    }\n",
              "\n",
              "    .colab-df-convert {\n",
              "      background-color: #E8F0FE;\n",
              "      border: none;\n",
              "      border-radius: 50%;\n",
              "      cursor: pointer;\n",
              "      display: none;\n",
              "      fill: #1967D2;\n",
              "      height: 32px;\n",
              "      padding: 0 0 0 0;\n",
              "      width: 32px;\n",
              "    }\n",
              "\n",
              "    .colab-df-convert:hover {\n",
              "      background-color: #E2EBFA;\n",
              "      box-shadow: 0px 1px 2px rgba(60, 64, 67, 0.3), 0px 1px 3px 1px rgba(60, 64, 67, 0.15);\n",
              "      fill: #174EA6;\n",
              "    }\n",
              "\n",
              "    [theme=dark] .colab-df-convert {\n",
              "      background-color: #3B4455;\n",
              "      fill: #D2E3FC;\n",
              "    }\n",
              "\n",
              "    [theme=dark] .colab-df-convert:hover {\n",
              "      background-color: #434B5C;\n",
              "      box-shadow: 0px 1px 3px 1px rgba(0, 0, 0, 0.15);\n",
              "      filter: drop-shadow(0px 1px 2px rgba(0, 0, 0, 0.3));\n",
              "      fill: #FFFFFF;\n",
              "    }\n",
              "  </style>\n",
              "\n",
              "      <script>\n",
              "        const buttonEl =\n",
              "          document.querySelector('#df-d3ce913f-ca46-45f0-85fa-383a740a1a30 button.colab-df-convert');\n",
              "        buttonEl.style.display =\n",
              "          google.colab.kernel.accessAllowed ? 'block' : 'none';\n",
              "\n",
              "        async function convertToInteractive(key) {\n",
              "          const element = document.querySelector('#df-d3ce913f-ca46-45f0-85fa-383a740a1a30');\n",
              "          const dataTable =\n",
              "            await google.colab.kernel.invokeFunction('convertToInteractive',\n",
              "                                                     [key], {});\n",
              "          if (!dataTable) return;\n",
              "\n",
              "          const docLinkHtml = 'Like what you see? Visit the ' +\n",
              "            '<a target=\"_blank\" href=https://colab.research.google.com/notebooks/data_table.ipynb>data table notebook</a>'\n",
              "            + ' to learn more about interactive tables.';\n",
              "          element.innerHTML = '';\n",
              "          dataTable['output_type'] = 'display_data';\n",
              "          await google.colab.output.renderOutput(dataTable, element);\n",
              "          const docLink = document.createElement('div');\n",
              "          docLink.innerHTML = docLinkHtml;\n",
              "          element.appendChild(docLink);\n",
              "        }\n",
              "      </script>\n",
              "    </div>\n",
              "  </div>\n",
              "  "
            ]
          },
          "metadata": {},
          "execution_count": 5
        }
      ]
    },
    {
      "cell_type": "code",
      "source": [
        "datos_dummy = pd.get_dummies(datos.drop(columns=['Conyuge','Dependientes',\n",
        "                           'TelefonoFijo','PagoOnline','Churn'],axis=1))"
      ],
      "metadata": {
        "id": "jMluzBnWZuAp"
      },
      "execution_count": 6,
      "outputs": []
    },
    {
      "cell_type": "code",
      "source": [
        "datos_final = pd.concat([datos_modificados,datos_dummy], axis=1)\n",
        "datos_final.head()"
      ],
      "metadata": {
        "colab": {
          "base_uri": "https://localhost:8080/",
          "height": 300
        },
        "id": "IVxeeQTNeVSS",
        "outputId": "7fdbd09e-48dd-452c-e013-8e05820b9ea7"
      },
      "execution_count": 7,
      "outputs": [
        {
          "output_type": "execute_result",
          "data": {
            "text/plain": [
              "   Conyuge  Dependientes  TelefonoFijo  PagoOnline  Churn  Mayor65Anos  \\\n",
              "0        1             0             0           1      0            0   \n",
              "1        0             0             1           0      0            0   \n",
              "2        0             0             1           1      1            0   \n",
              "3        0             0             0           0      0            0   \n",
              "4        0             0             1           1      1            0   \n",
              "\n",
              "   MesesDeContrato  CuentaMensual  VariasLineasTelefonicas_No  \\\n",
              "0                1          29.85                           0   \n",
              "1               34          56.95                           1   \n",
              "2                2          53.85                           1   \n",
              "3               45          42.30                           0   \n",
              "4                2          70.70                           1   \n",
              "\n",
              "   VariasLineasTelefonicas_Si  ...  StreamingDePeliculas_No  \\\n",
              "0                           0  ...                        1   \n",
              "1                           0  ...                        1   \n",
              "2                           0  ...                        1   \n",
              "3                           0  ...                        1   \n",
              "4                           0  ...                        1   \n",
              "\n",
              "   StreamingDePeliculas_Si  StreamingDePeliculas_SinServicioDeInternet  \\\n",
              "0                        0                                           0   \n",
              "1                        0                                           0   \n",
              "2                        0                                           0   \n",
              "3                        0                                           0   \n",
              "4                        0                                           0   \n",
              "\n",
              "   TipoDeContrato_Anual  TipoDeContrato_Bienal  TipoDeContrato_Mensual  \\\n",
              "0                     0                      0                       1   \n",
              "1                     1                      0                       0   \n",
              "2                     0                      0                       1   \n",
              "3                     1                      0                       0   \n",
              "4                     0                      0                       1   \n",
              "\n",
              "   FormaDePago_ChequeDigital  FormaDePago_ChequePapel  \\\n",
              "0                          1                        0   \n",
              "1                          0                        1   \n",
              "2                          0                        1   \n",
              "3                          0                        0   \n",
              "4                          1                        0   \n",
              "\n",
              "   FormaDePago_DebitoAutomatico  FormaDePago_TarjetaDeCredito  \n",
              "0                             0                             0  \n",
              "1                             0                             0  \n",
              "2                             0                             0  \n",
              "3                             1                             0  \n",
              "4                             0                             0  \n",
              "\n",
              "[5 rows x 39 columns]"
            ],
            "text/html": [
              "\n",
              "  <div id=\"df-6ca3526e-f56a-4b2f-a2ab-c9dbf6d6028c\">\n",
              "    <div class=\"colab-df-container\">\n",
              "      <div>\n",
              "<style scoped>\n",
              "    .dataframe tbody tr th:only-of-type {\n",
              "        vertical-align: middle;\n",
              "    }\n",
              "\n",
              "    .dataframe tbody tr th {\n",
              "        vertical-align: top;\n",
              "    }\n",
              "\n",
              "    .dataframe thead th {\n",
              "        text-align: right;\n",
              "    }\n",
              "</style>\n",
              "<table border=\"1\" class=\"dataframe\">\n",
              "  <thead>\n",
              "    <tr style=\"text-align: right;\">\n",
              "      <th></th>\n",
              "      <th>Conyuge</th>\n",
              "      <th>Dependientes</th>\n",
              "      <th>TelefonoFijo</th>\n",
              "      <th>PagoOnline</th>\n",
              "      <th>Churn</th>\n",
              "      <th>Mayor65Anos</th>\n",
              "      <th>MesesDeContrato</th>\n",
              "      <th>CuentaMensual</th>\n",
              "      <th>VariasLineasTelefonicas_No</th>\n",
              "      <th>VariasLineasTelefonicas_Si</th>\n",
              "      <th>...</th>\n",
              "      <th>StreamingDePeliculas_No</th>\n",
              "      <th>StreamingDePeliculas_Si</th>\n",
              "      <th>StreamingDePeliculas_SinServicioDeInternet</th>\n",
              "      <th>TipoDeContrato_Anual</th>\n",
              "      <th>TipoDeContrato_Bienal</th>\n",
              "      <th>TipoDeContrato_Mensual</th>\n",
              "      <th>FormaDePago_ChequeDigital</th>\n",
              "      <th>FormaDePago_ChequePapel</th>\n",
              "      <th>FormaDePago_DebitoAutomatico</th>\n",
              "      <th>FormaDePago_TarjetaDeCredito</th>\n",
              "    </tr>\n",
              "  </thead>\n",
              "  <tbody>\n",
              "    <tr>\n",
              "      <th>0</th>\n",
              "      <td>1</td>\n",
              "      <td>0</td>\n",
              "      <td>0</td>\n",
              "      <td>1</td>\n",
              "      <td>0</td>\n",
              "      <td>0</td>\n",
              "      <td>1</td>\n",
              "      <td>29.85</td>\n",
              "      <td>0</td>\n",
              "      <td>0</td>\n",
              "      <td>...</td>\n",
              "      <td>1</td>\n",
              "      <td>0</td>\n",
              "      <td>0</td>\n",
              "      <td>0</td>\n",
              "      <td>0</td>\n",
              "      <td>1</td>\n",
              "      <td>1</td>\n",
              "      <td>0</td>\n",
              "      <td>0</td>\n",
              "      <td>0</td>\n",
              "    </tr>\n",
              "    <tr>\n",
              "      <th>1</th>\n",
              "      <td>0</td>\n",
              "      <td>0</td>\n",
              "      <td>1</td>\n",
              "      <td>0</td>\n",
              "      <td>0</td>\n",
              "      <td>0</td>\n",
              "      <td>34</td>\n",
              "      <td>56.95</td>\n",
              "      <td>1</td>\n",
              "      <td>0</td>\n",
              "      <td>...</td>\n",
              "      <td>1</td>\n",
              "      <td>0</td>\n",
              "      <td>0</td>\n",
              "      <td>1</td>\n",
              "      <td>0</td>\n",
              "      <td>0</td>\n",
              "      <td>0</td>\n",
              "      <td>1</td>\n",
              "      <td>0</td>\n",
              "      <td>0</td>\n",
              "    </tr>\n",
              "    <tr>\n",
              "      <th>2</th>\n",
              "      <td>0</td>\n",
              "      <td>0</td>\n",
              "      <td>1</td>\n",
              "      <td>1</td>\n",
              "      <td>1</td>\n",
              "      <td>0</td>\n",
              "      <td>2</td>\n",
              "      <td>53.85</td>\n",
              "      <td>1</td>\n",
              "      <td>0</td>\n",
              "      <td>...</td>\n",
              "      <td>1</td>\n",
              "      <td>0</td>\n",
              "      <td>0</td>\n",
              "      <td>0</td>\n",
              "      <td>0</td>\n",
              "      <td>1</td>\n",
              "      <td>0</td>\n",
              "      <td>1</td>\n",
              "      <td>0</td>\n",
              "      <td>0</td>\n",
              "    </tr>\n",
              "    <tr>\n",
              "      <th>3</th>\n",
              "      <td>0</td>\n",
              "      <td>0</td>\n",
              "      <td>0</td>\n",
              "      <td>0</td>\n",
              "      <td>0</td>\n",
              "      <td>0</td>\n",
              "      <td>45</td>\n",
              "      <td>42.30</td>\n",
              "      <td>0</td>\n",
              "      <td>0</td>\n",
              "      <td>...</td>\n",
              "      <td>1</td>\n",
              "      <td>0</td>\n",
              "      <td>0</td>\n",
              "      <td>1</td>\n",
              "      <td>0</td>\n",
              "      <td>0</td>\n",
              "      <td>0</td>\n",
              "      <td>0</td>\n",
              "      <td>1</td>\n",
              "      <td>0</td>\n",
              "    </tr>\n",
              "    <tr>\n",
              "      <th>4</th>\n",
              "      <td>0</td>\n",
              "      <td>0</td>\n",
              "      <td>1</td>\n",
              "      <td>1</td>\n",
              "      <td>1</td>\n",
              "      <td>0</td>\n",
              "      <td>2</td>\n",
              "      <td>70.70</td>\n",
              "      <td>1</td>\n",
              "      <td>0</td>\n",
              "      <td>...</td>\n",
              "      <td>1</td>\n",
              "      <td>0</td>\n",
              "      <td>0</td>\n",
              "      <td>0</td>\n",
              "      <td>0</td>\n",
              "      <td>1</td>\n",
              "      <td>1</td>\n",
              "      <td>0</td>\n",
              "      <td>0</td>\n",
              "      <td>0</td>\n",
              "    </tr>\n",
              "  </tbody>\n",
              "</table>\n",
              "<p>5 rows × 39 columns</p>\n",
              "</div>\n",
              "      <button class=\"colab-df-convert\" onclick=\"convertToInteractive('df-6ca3526e-f56a-4b2f-a2ab-c9dbf6d6028c')\"\n",
              "              title=\"Convert this dataframe to an interactive table.\"\n",
              "              style=\"display:none;\">\n",
              "        \n",
              "  <svg xmlns=\"http://www.w3.org/2000/svg\" height=\"24px\"viewBox=\"0 0 24 24\"\n",
              "       width=\"24px\">\n",
              "    <path d=\"M0 0h24v24H0V0z\" fill=\"none\"/>\n",
              "    <path d=\"M18.56 5.44l.94 2.06.94-2.06 2.06-.94-2.06-.94-.94-2.06-.94 2.06-2.06.94zm-11 1L8.5 8.5l.94-2.06 2.06-.94-2.06-.94L8.5 2.5l-.94 2.06-2.06.94zm10 10l.94 2.06.94-2.06 2.06-.94-2.06-.94-.94-2.06-.94 2.06-2.06.94z\"/><path d=\"M17.41 7.96l-1.37-1.37c-.4-.4-.92-.59-1.43-.59-.52 0-1.04.2-1.43.59L10.3 9.45l-7.72 7.72c-.78.78-.78 2.05 0 2.83L4 21.41c.39.39.9.59 1.41.59.51 0 1.02-.2 1.41-.59l7.78-7.78 2.81-2.81c.8-.78.8-2.07 0-2.86zM5.41 20L4 18.59l7.72-7.72 1.47 1.35L5.41 20z\"/>\n",
              "  </svg>\n",
              "      </button>\n",
              "      \n",
              "  <style>\n",
              "    .colab-df-container {\n",
              "      display:flex;\n",
              "      flex-wrap:wrap;\n",
              "      gap: 12px;\n",
              "    }\n",
              "\n",
              "    .colab-df-convert {\n",
              "      background-color: #E8F0FE;\n",
              "      border: none;\n",
              "      border-radius: 50%;\n",
              "      cursor: pointer;\n",
              "      display: none;\n",
              "      fill: #1967D2;\n",
              "      height: 32px;\n",
              "      padding: 0 0 0 0;\n",
              "      width: 32px;\n",
              "    }\n",
              "\n",
              "    .colab-df-convert:hover {\n",
              "      background-color: #E2EBFA;\n",
              "      box-shadow: 0px 1px 2px rgba(60, 64, 67, 0.3), 0px 1px 3px 1px rgba(60, 64, 67, 0.15);\n",
              "      fill: #174EA6;\n",
              "    }\n",
              "\n",
              "    [theme=dark] .colab-df-convert {\n",
              "      background-color: #3B4455;\n",
              "      fill: #D2E3FC;\n",
              "    }\n",
              "\n",
              "    [theme=dark] .colab-df-convert:hover {\n",
              "      background-color: #434B5C;\n",
              "      box-shadow: 0px 1px 3px 1px rgba(0, 0, 0, 0.15);\n",
              "      filter: drop-shadow(0px 1px 2px rgba(0, 0, 0, 0.3));\n",
              "      fill: #FFFFFF;\n",
              "    }\n",
              "  </style>\n",
              "\n",
              "      <script>\n",
              "        const buttonEl =\n",
              "          document.querySelector('#df-6ca3526e-f56a-4b2f-a2ab-c9dbf6d6028c button.colab-df-convert');\n",
              "        buttonEl.style.display =\n",
              "          google.colab.kernel.accessAllowed ? 'block' : 'none';\n",
              "\n",
              "        async function convertToInteractive(key) {\n",
              "          const element = document.querySelector('#df-6ca3526e-f56a-4b2f-a2ab-c9dbf6d6028c');\n",
              "          const dataTable =\n",
              "            await google.colab.kernel.invokeFunction('convertToInteractive',\n",
              "                                                     [key], {});\n",
              "          if (!dataTable) return;\n",
              "\n",
              "          const docLinkHtml = 'Like what you see? Visit the ' +\n",
              "            '<a target=\"_blank\" href=https://colab.research.google.com/notebooks/data_table.ipynb>data table notebook</a>'\n",
              "            + ' to learn more about interactive tables.';\n",
              "          element.innerHTML = '';\n",
              "          dataTable['output_type'] = 'display_data';\n",
              "          await google.colab.output.renderOutput(dataTable, element);\n",
              "          const docLink = document.createElement('div');\n",
              "          docLink.innerHTML = docLinkHtml;\n",
              "          element.appendChild(docLink);\n",
              "        }\n",
              "      </script>\n",
              "    </div>\n",
              "  </div>\n",
              "  "
            ]
          },
          "metadata": {},
          "execution_count": 7
        }
      ]
    },
    {
      "cell_type": "markdown",
      "source": [
        "### 1.5 Definición Formal"
      ],
      "metadata": {
        "id": "k9eqcKpTIdWH"
      }
    },
    {
      "cell_type": "markdown",
      "source": [
        "Información para la clasificación:\n",
        "\n",
        "$X$ = inputs (datos de entrada)\n",
        "\n",
        "$y$ = outputs (datos de saída)"
      ],
      "metadata": {
        "id": "t75SWNigZ8SJ"
      }
    },
    {
      "cell_type": "code",
      "source": [
        "pd.set_option('display.max_columns',39)"
      ],
      "metadata": {
        "id": "c1cAoH4dImBn"
      },
      "execution_count": 8,
      "outputs": []
    },
    {
      "cell_type": "code",
      "source": [
        "datos_final.head()"
      ],
      "metadata": {
        "colab": {
          "base_uri": "https://localhost:8080/",
          "height": 270
        },
        "id": "nxwgBZydNgAB",
        "outputId": "b691ec92-b02e-42e6-a5e2-54b1356e5b4e"
      },
      "execution_count": 9,
      "outputs": [
        {
          "output_type": "execute_result",
          "data": {
            "text/plain": [
              "   Conyuge  Dependientes  TelefonoFijo  PagoOnline  Churn  Mayor65Anos  \\\n",
              "0        1             0             0           1      0            0   \n",
              "1        0             0             1           0      0            0   \n",
              "2        0             0             1           1      1            0   \n",
              "3        0             0             0           0      0            0   \n",
              "4        0             0             1           1      1            0   \n",
              "\n",
              "   MesesDeContrato  CuentaMensual  VariasLineasTelefonicas_No  \\\n",
              "0                1          29.85                           0   \n",
              "1               34          56.95                           1   \n",
              "2                2          53.85                           1   \n",
              "3               45          42.30                           0   \n",
              "4                2          70.70                           1   \n",
              "\n",
              "   VariasLineasTelefonicas_Si  VariasLineasTelefonicas_SinServicioTelefonico  \\\n",
              "0                           0                                              1   \n",
              "1                           0                                              0   \n",
              "2                           0                                              0   \n",
              "3                           0                                              1   \n",
              "4                           0                                              0   \n",
              "\n",
              "   ServicioDeInternet_DSL  ServicioDeInternet_FibraOptica  \\\n",
              "0                       1                               0   \n",
              "1                       1                               0   \n",
              "2                       1                               0   \n",
              "3                       1                               0   \n",
              "4                       0                               1   \n",
              "\n",
              "   ServicioDeInternet_No  SeguridadOnline_No  SeguridadOnline_Si  \\\n",
              "0                      0                   1                   0   \n",
              "1                      0                   0                   1   \n",
              "2                      0                   0                   1   \n",
              "3                      0                   0                   1   \n",
              "4                      0                   1                   0   \n",
              "\n",
              "   SeguridadOnline_SinServicioDeInternet  BackupOnline_No  BackupOnline_Si  \\\n",
              "0                                      0                0                1   \n",
              "1                                      0                1                0   \n",
              "2                                      0                0                1   \n",
              "3                                      0                1                0   \n",
              "4                                      0                1                0   \n",
              "\n",
              "   BackupOnline_SinServicioDeInternet  SeguroEnDispositivo_No  \\\n",
              "0                                   0                       1   \n",
              "1                                   0                       0   \n",
              "2                                   0                       1   \n",
              "3                                   0                       0   \n",
              "4                                   0                       1   \n",
              "\n",
              "   SeguroEnDispositivo_Si  SeguroEnDispositivo_SinServicioDeInternet  \\\n",
              "0                       0                                          0   \n",
              "1                       1                                          0   \n",
              "2                       0                                          0   \n",
              "3                       1                                          0   \n",
              "4                       0                                          0   \n",
              "\n",
              "   SoporteTecnico_No  SoporteTecnico_Si  SoporteTecnico_SinServicioDeInternet  \\\n",
              "0                  1                  0                                     0   \n",
              "1                  1                  0                                     0   \n",
              "2                  1                  0                                     0   \n",
              "3                  0                  1                                     0   \n",
              "4                  1                  0                                     0   \n",
              "\n",
              "   TVaCable_No  TVaCable_Si  TVaCable_SinServicioDeInternet  \\\n",
              "0            1            0                               0   \n",
              "1            1            0                               0   \n",
              "2            1            0                               0   \n",
              "3            1            0                               0   \n",
              "4            1            0                               0   \n",
              "\n",
              "   StreamingDePeliculas_No  StreamingDePeliculas_Si  \\\n",
              "0                        1                        0   \n",
              "1                        1                        0   \n",
              "2                        1                        0   \n",
              "3                        1                        0   \n",
              "4                        1                        0   \n",
              "\n",
              "   StreamingDePeliculas_SinServicioDeInternet  TipoDeContrato_Anual  \\\n",
              "0                                           0                     0   \n",
              "1                                           0                     1   \n",
              "2                                           0                     0   \n",
              "3                                           0                     1   \n",
              "4                                           0                     0   \n",
              "\n",
              "   TipoDeContrato_Bienal  TipoDeContrato_Mensual  FormaDePago_ChequeDigital  \\\n",
              "0                      0                       1                          1   \n",
              "1                      0                       0                          0   \n",
              "2                      0                       1                          0   \n",
              "3                      0                       0                          0   \n",
              "4                      0                       1                          1   \n",
              "\n",
              "   FormaDePago_ChequePapel  FormaDePago_DebitoAutomatico  \\\n",
              "0                        0                             0   \n",
              "1                        1                             0   \n",
              "2                        1                             0   \n",
              "3                        0                             1   \n",
              "4                        0                             0   \n",
              "\n",
              "   FormaDePago_TarjetaDeCredito  \n",
              "0                             0  \n",
              "1                             0  \n",
              "2                             0  \n",
              "3                             0  \n",
              "4                             0  "
            ],
            "text/html": [
              "\n",
              "  <div id=\"df-943b7b55-04e5-402e-adff-7b175ec36e8a\">\n",
              "    <div class=\"colab-df-container\">\n",
              "      <div>\n",
              "<style scoped>\n",
              "    .dataframe tbody tr th:only-of-type {\n",
              "        vertical-align: middle;\n",
              "    }\n",
              "\n",
              "    .dataframe tbody tr th {\n",
              "        vertical-align: top;\n",
              "    }\n",
              "\n",
              "    .dataframe thead th {\n",
              "        text-align: right;\n",
              "    }\n",
              "</style>\n",
              "<table border=\"1\" class=\"dataframe\">\n",
              "  <thead>\n",
              "    <tr style=\"text-align: right;\">\n",
              "      <th></th>\n",
              "      <th>Conyuge</th>\n",
              "      <th>Dependientes</th>\n",
              "      <th>TelefonoFijo</th>\n",
              "      <th>PagoOnline</th>\n",
              "      <th>Churn</th>\n",
              "      <th>Mayor65Anos</th>\n",
              "      <th>MesesDeContrato</th>\n",
              "      <th>CuentaMensual</th>\n",
              "      <th>VariasLineasTelefonicas_No</th>\n",
              "      <th>VariasLineasTelefonicas_Si</th>\n",
              "      <th>VariasLineasTelefonicas_SinServicioTelefonico</th>\n",
              "      <th>ServicioDeInternet_DSL</th>\n",
              "      <th>ServicioDeInternet_FibraOptica</th>\n",
              "      <th>ServicioDeInternet_No</th>\n",
              "      <th>SeguridadOnline_No</th>\n",
              "      <th>SeguridadOnline_Si</th>\n",
              "      <th>SeguridadOnline_SinServicioDeInternet</th>\n",
              "      <th>BackupOnline_No</th>\n",
              "      <th>BackupOnline_Si</th>\n",
              "      <th>BackupOnline_SinServicioDeInternet</th>\n",
              "      <th>SeguroEnDispositivo_No</th>\n",
              "      <th>SeguroEnDispositivo_Si</th>\n",
              "      <th>SeguroEnDispositivo_SinServicioDeInternet</th>\n",
              "      <th>SoporteTecnico_No</th>\n",
              "      <th>SoporteTecnico_Si</th>\n",
              "      <th>SoporteTecnico_SinServicioDeInternet</th>\n",
              "      <th>TVaCable_No</th>\n",
              "      <th>TVaCable_Si</th>\n",
              "      <th>TVaCable_SinServicioDeInternet</th>\n",
              "      <th>StreamingDePeliculas_No</th>\n",
              "      <th>StreamingDePeliculas_Si</th>\n",
              "      <th>StreamingDePeliculas_SinServicioDeInternet</th>\n",
              "      <th>TipoDeContrato_Anual</th>\n",
              "      <th>TipoDeContrato_Bienal</th>\n",
              "      <th>TipoDeContrato_Mensual</th>\n",
              "      <th>FormaDePago_ChequeDigital</th>\n",
              "      <th>FormaDePago_ChequePapel</th>\n",
              "      <th>FormaDePago_DebitoAutomatico</th>\n",
              "      <th>FormaDePago_TarjetaDeCredito</th>\n",
              "    </tr>\n",
              "  </thead>\n",
              "  <tbody>\n",
              "    <tr>\n",
              "      <th>0</th>\n",
              "      <td>1</td>\n",
              "      <td>0</td>\n",
              "      <td>0</td>\n",
              "      <td>1</td>\n",
              "      <td>0</td>\n",
              "      <td>0</td>\n",
              "      <td>1</td>\n",
              "      <td>29.85</td>\n",
              "      <td>0</td>\n",
              "      <td>0</td>\n",
              "      <td>1</td>\n",
              "      <td>1</td>\n",
              "      <td>0</td>\n",
              "      <td>0</td>\n",
              "      <td>1</td>\n",
              "      <td>0</td>\n",
              "      <td>0</td>\n",
              "      <td>0</td>\n",
              "      <td>1</td>\n",
              "      <td>0</td>\n",
              "      <td>1</td>\n",
              "      <td>0</td>\n",
              "      <td>0</td>\n",
              "      <td>1</td>\n",
              "      <td>0</td>\n",
              "      <td>0</td>\n",
              "      <td>1</td>\n",
              "      <td>0</td>\n",
              "      <td>0</td>\n",
              "      <td>1</td>\n",
              "      <td>0</td>\n",
              "      <td>0</td>\n",
              "      <td>0</td>\n",
              "      <td>0</td>\n",
              "      <td>1</td>\n",
              "      <td>1</td>\n",
              "      <td>0</td>\n",
              "      <td>0</td>\n",
              "      <td>0</td>\n",
              "    </tr>\n",
              "    <tr>\n",
              "      <th>1</th>\n",
              "      <td>0</td>\n",
              "      <td>0</td>\n",
              "      <td>1</td>\n",
              "      <td>0</td>\n",
              "      <td>0</td>\n",
              "      <td>0</td>\n",
              "      <td>34</td>\n",
              "      <td>56.95</td>\n",
              "      <td>1</td>\n",
              "      <td>0</td>\n",
              "      <td>0</td>\n",
              "      <td>1</td>\n",
              "      <td>0</td>\n",
              "      <td>0</td>\n",
              "      <td>0</td>\n",
              "      <td>1</td>\n",
              "      <td>0</td>\n",
              "      <td>1</td>\n",
              "      <td>0</td>\n",
              "      <td>0</td>\n",
              "      <td>0</td>\n",
              "      <td>1</td>\n",
              "      <td>0</td>\n",
              "      <td>1</td>\n",
              "      <td>0</td>\n",
              "      <td>0</td>\n",
              "      <td>1</td>\n",
              "      <td>0</td>\n",
              "      <td>0</td>\n",
              "      <td>1</td>\n",
              "      <td>0</td>\n",
              "      <td>0</td>\n",
              "      <td>1</td>\n",
              "      <td>0</td>\n",
              "      <td>0</td>\n",
              "      <td>0</td>\n",
              "      <td>1</td>\n",
              "      <td>0</td>\n",
              "      <td>0</td>\n",
              "    </tr>\n",
              "    <tr>\n",
              "      <th>2</th>\n",
              "      <td>0</td>\n",
              "      <td>0</td>\n",
              "      <td>1</td>\n",
              "      <td>1</td>\n",
              "      <td>1</td>\n",
              "      <td>0</td>\n",
              "      <td>2</td>\n",
              "      <td>53.85</td>\n",
              "      <td>1</td>\n",
              "      <td>0</td>\n",
              "      <td>0</td>\n",
              "      <td>1</td>\n",
              "      <td>0</td>\n",
              "      <td>0</td>\n",
              "      <td>0</td>\n",
              "      <td>1</td>\n",
              "      <td>0</td>\n",
              "      <td>0</td>\n",
              "      <td>1</td>\n",
              "      <td>0</td>\n",
              "      <td>1</td>\n",
              "      <td>0</td>\n",
              "      <td>0</td>\n",
              "      <td>1</td>\n",
              "      <td>0</td>\n",
              "      <td>0</td>\n",
              "      <td>1</td>\n",
              "      <td>0</td>\n",
              "      <td>0</td>\n",
              "      <td>1</td>\n",
              "      <td>0</td>\n",
              "      <td>0</td>\n",
              "      <td>0</td>\n",
              "      <td>0</td>\n",
              "      <td>1</td>\n",
              "      <td>0</td>\n",
              "      <td>1</td>\n",
              "      <td>0</td>\n",
              "      <td>0</td>\n",
              "    </tr>\n",
              "    <tr>\n",
              "      <th>3</th>\n",
              "      <td>0</td>\n",
              "      <td>0</td>\n",
              "      <td>0</td>\n",
              "      <td>0</td>\n",
              "      <td>0</td>\n",
              "      <td>0</td>\n",
              "      <td>45</td>\n",
              "      <td>42.30</td>\n",
              "      <td>0</td>\n",
              "      <td>0</td>\n",
              "      <td>1</td>\n",
              "      <td>1</td>\n",
              "      <td>0</td>\n",
              "      <td>0</td>\n",
              "      <td>0</td>\n",
              "      <td>1</td>\n",
              "      <td>0</td>\n",
              "      <td>1</td>\n",
              "      <td>0</td>\n",
              "      <td>0</td>\n",
              "      <td>0</td>\n",
              "      <td>1</td>\n",
              "      <td>0</td>\n",
              "      <td>0</td>\n",
              "      <td>1</td>\n",
              "      <td>0</td>\n",
              "      <td>1</td>\n",
              "      <td>0</td>\n",
              "      <td>0</td>\n",
              "      <td>1</td>\n",
              "      <td>0</td>\n",
              "      <td>0</td>\n",
              "      <td>1</td>\n",
              "      <td>0</td>\n",
              "      <td>0</td>\n",
              "      <td>0</td>\n",
              "      <td>0</td>\n",
              "      <td>1</td>\n",
              "      <td>0</td>\n",
              "    </tr>\n",
              "    <tr>\n",
              "      <th>4</th>\n",
              "      <td>0</td>\n",
              "      <td>0</td>\n",
              "      <td>1</td>\n",
              "      <td>1</td>\n",
              "      <td>1</td>\n",
              "      <td>0</td>\n",
              "      <td>2</td>\n",
              "      <td>70.70</td>\n",
              "      <td>1</td>\n",
              "      <td>0</td>\n",
              "      <td>0</td>\n",
              "      <td>0</td>\n",
              "      <td>1</td>\n",
              "      <td>0</td>\n",
              "      <td>1</td>\n",
              "      <td>0</td>\n",
              "      <td>0</td>\n",
              "      <td>1</td>\n",
              "      <td>0</td>\n",
              "      <td>0</td>\n",
              "      <td>1</td>\n",
              "      <td>0</td>\n",
              "      <td>0</td>\n",
              "      <td>1</td>\n",
              "      <td>0</td>\n",
              "      <td>0</td>\n",
              "      <td>1</td>\n",
              "      <td>0</td>\n",
              "      <td>0</td>\n",
              "      <td>1</td>\n",
              "      <td>0</td>\n",
              "      <td>0</td>\n",
              "      <td>0</td>\n",
              "      <td>0</td>\n",
              "      <td>1</td>\n",
              "      <td>1</td>\n",
              "      <td>0</td>\n",
              "      <td>0</td>\n",
              "      <td>0</td>\n",
              "    </tr>\n",
              "  </tbody>\n",
              "</table>\n",
              "</div>\n",
              "      <button class=\"colab-df-convert\" onclick=\"convertToInteractive('df-943b7b55-04e5-402e-adff-7b175ec36e8a')\"\n",
              "              title=\"Convert this dataframe to an interactive table.\"\n",
              "              style=\"display:none;\">\n",
              "        \n",
              "  <svg xmlns=\"http://www.w3.org/2000/svg\" height=\"24px\"viewBox=\"0 0 24 24\"\n",
              "       width=\"24px\">\n",
              "    <path d=\"M0 0h24v24H0V0z\" fill=\"none\"/>\n",
              "    <path d=\"M18.56 5.44l.94 2.06.94-2.06 2.06-.94-2.06-.94-.94-2.06-.94 2.06-2.06.94zm-11 1L8.5 8.5l.94-2.06 2.06-.94-2.06-.94L8.5 2.5l-.94 2.06-2.06.94zm10 10l.94 2.06.94-2.06 2.06-.94-2.06-.94-.94-2.06-.94 2.06-2.06.94z\"/><path d=\"M17.41 7.96l-1.37-1.37c-.4-.4-.92-.59-1.43-.59-.52 0-1.04.2-1.43.59L10.3 9.45l-7.72 7.72c-.78.78-.78 2.05 0 2.83L4 21.41c.39.39.9.59 1.41.59.51 0 1.02-.2 1.41-.59l7.78-7.78 2.81-2.81c.8-.78.8-2.07 0-2.86zM5.41 20L4 18.59l7.72-7.72 1.47 1.35L5.41 20z\"/>\n",
              "  </svg>\n",
              "      </button>\n",
              "      \n",
              "  <style>\n",
              "    .colab-df-container {\n",
              "      display:flex;\n",
              "      flex-wrap:wrap;\n",
              "      gap: 12px;\n",
              "    }\n",
              "\n",
              "    .colab-df-convert {\n",
              "      background-color: #E8F0FE;\n",
              "      border: none;\n",
              "      border-radius: 50%;\n",
              "      cursor: pointer;\n",
              "      display: none;\n",
              "      fill: #1967D2;\n",
              "      height: 32px;\n",
              "      padding: 0 0 0 0;\n",
              "      width: 32px;\n",
              "    }\n",
              "\n",
              "    .colab-df-convert:hover {\n",
              "      background-color: #E2EBFA;\n",
              "      box-shadow: 0px 1px 2px rgba(60, 64, 67, 0.3), 0px 1px 3px 1px rgba(60, 64, 67, 0.15);\n",
              "      fill: #174EA6;\n",
              "    }\n",
              "\n",
              "    [theme=dark] .colab-df-convert {\n",
              "      background-color: #3B4455;\n",
              "      fill: #D2E3FC;\n",
              "    }\n",
              "\n",
              "    [theme=dark] .colab-df-convert:hover {\n",
              "      background-color: #434B5C;\n",
              "      box-shadow: 0px 1px 3px 1px rgba(0, 0, 0, 0.15);\n",
              "      filter: drop-shadow(0px 1px 2px rgba(0, 0, 0, 0.3));\n",
              "      fill: #FFFFFF;\n",
              "    }\n",
              "  </style>\n",
              "\n",
              "      <script>\n",
              "        const buttonEl =\n",
              "          document.querySelector('#df-943b7b55-04e5-402e-adff-7b175ec36e8a button.colab-df-convert');\n",
              "        buttonEl.style.display =\n",
              "          google.colab.kernel.accessAllowed ? 'block' : 'none';\n",
              "\n",
              "        async function convertToInteractive(key) {\n",
              "          const element = document.querySelector('#df-943b7b55-04e5-402e-adff-7b175ec36e8a');\n",
              "          const dataTable =\n",
              "            await google.colab.kernel.invokeFunction('convertToInteractive',\n",
              "                                                     [key], {});\n",
              "          if (!dataTable) return;\n",
              "\n",
              "          const docLinkHtml = 'Like what you see? Visit the ' +\n",
              "            '<a target=\"_blank\" href=https://colab.research.google.com/notebooks/data_table.ipynb>data table notebook</a>'\n",
              "            + ' to learn more about interactive tables.';\n",
              "          element.innerHTML = '';\n",
              "          dataTable['output_type'] = 'display_data';\n",
              "          await google.colab.output.renderOutput(dataTable, element);\n",
              "          const docLink = document.createElement('div');\n",
              "          docLink.innerHTML = docLinkHtml;\n",
              "          element.appendChild(docLink);\n",
              "        }\n",
              "      </script>\n",
              "    </div>\n",
              "  </div>\n",
              "  "
            ]
          },
          "metadata": {},
          "execution_count": 9
        }
      ]
    },
    {
      "cell_type": "markdown",
      "source": [
        "\n",
        "$y_i$ = $f(x_i)$"
      ],
      "metadata": {
        "id": "p5C6QJIhaC2D"
      }
    },
    {
      "cell_type": "code",
      "source": [
        "Xmaria = [[0,0,1,1,0,0,39.90,1,0,0,0,1,0,1,0,0,0,0,1,1,1,0,0,1,0,1,0,0,0,0,1,0,0,1,0,0,0,1]]"
      ],
      "metadata": {
        "id": "dY-41dRhJ2ZQ"
      },
      "execution_count": 10,
      "outputs": []
    },
    {
      "cell_type": "code",
      "source": [
        "#ymaria=?"
      ],
      "metadata": {
        "id": "DXBcqH6saM6x"
      },
      "execution_count": 11,
      "outputs": []
    },
    {
      "cell_type": "markdown",
      "source": [
        "Nuevos pares de información = ($Xmaria$, $ymaria$)"
      ],
      "metadata": {
        "id": "lut9qtF8aNUk"
      }
    },
    {
      "cell_type": "markdown",
      "source": [
        "### 1.6 Balanceo de los datos"
      ],
      "metadata": {
        "id": "jVoCMAN6amax"
      }
    },
    {
      "cell_type": "code",
      "source": [
        "import seaborn as sns\n",
        "\n",
        "sns.countplot(x='Churn', data=datos_final)"
      ],
      "metadata": {
        "colab": {
          "base_uri": "https://localhost:8080/",
          "height": 297
        },
        "id": "H7wPFWAOalrN",
        "outputId": "712aa9ab-a53f-4d9b-80f5-eee440111182"
      },
      "execution_count": 12,
      "outputs": [
        {
          "output_type": "execute_result",
          "data": {
            "text/plain": [
              "<matplotlib.axes._subplots.AxesSubplot at 0x7f948282b190>"
            ]
          },
          "metadata": {},
          "execution_count": 12
        },
        {
          "output_type": "display_data",
          "data": {
            "text/plain": [
              "<Figure size 432x288 with 1 Axes>"
            ],
            "image/png": "[encoded data removed]"
          },
          "metadata": {
            "needs_background": "light"
          }
        }
      ]
    },
    {
      "cell_type": "code",
      "source": [
        "datos_final.Churn.value_counts()"
      ],
      "metadata": {
        "colab": {
          "base_uri": "https://localhost:8080/"
        },
        "id": "iD_vPzhkFgin",
        "outputId": "c3cfe508-28e1-4ee8-9646-e4aa5ccb6ee5"
      },
      "execution_count": 13,
      "outputs": [
        {
          "output_type": "execute_result",
          "data": {
            "text/plain": [
              "0    5174\n",
              "1    1869\n",
              "Name: Churn, dtype: int64"
            ]
          },
          "metadata": {},
          "execution_count": 13
        }
      ]
    },
    {
      "cell_type": "code",
      "source": [
        "from imblearn.over_sampling import SMOTE\n",
        "\n",
        "X = datos_final.drop(columns='Churn', axis=1)\n",
        "y = datos_final['Churn']\n",
        "\n",
        "smt = SMOTE(random_state=123)\n",
        "X, y = smt.fit_resample(X,y)"
      ],
      "metadata": {
        "id": "bFsfA1wva6Re"
      },
      "execution_count": 14,
      "outputs": []
    },
    {
      "cell_type": "code",
      "source": [
        "datos_final.shape"
      ],
      "metadata": {
        "colab": {
          "base_uri": "https://localhost:8080/"
        },
        "id": "1UjLexz4jhxH",
        "outputId": "58d7bc7e-5f43-4f0b-ad4b-5155718d6908"
      },
      "execution_count": 15,
      "outputs": [
        {
          "output_type": "execute_result",
          "data": {
            "text/plain": [
              "(7043, 39)"
            ]
          },
          "metadata": {},
          "execution_count": 15
        }
      ]
    },
    {
      "cell_type": "code",
      "source": [
        "datos_final = pd.concat([X,y], axis=1)\n",
        "datos_final.shape"
      ],
      "metadata": {
        "colab": {
          "base_uri": "https://localhost:8080/"
        },
        "id": "UxSKKiNQikme",
        "outputId": "10d3da75-7958-4769-a901-415ff016713a"
      },
      "execution_count": 16,
      "outputs": [
        {
          "output_type": "execute_result",
          "data": {
            "text/plain": [
              "(10348, 39)"
            ]
          },
          "metadata": {},
          "execution_count": 16
        }
      ]
    },
    {
      "cell_type": "code",
      "source": [
        "datos_final.sample(5)"
      ],
      "metadata": {
        "colab": {
          "base_uri": "https://localhost:8080/",
          "height": 270
        },
        "id": "IdE6lEdnikpe",
        "outputId": "35dfbdee-67e6-4b57-8434-eb795d76c066"
      },
      "execution_count": 17,
      "outputs": [
        {
          "output_type": "execute_result",
          "data": {
            "text/plain": [
              "      Conyuge  Dependientes  TelefonoFijo  PagoOnline  Mayor65Anos  \\\n",
              "7049        0             0             1           1            0   \n",
              "7864        0             0             1           1            0   \n",
              "6840        0             1             1           1            0   \n",
              "7243        0             0             1           1            0   \n",
              "6937        0             0             0           1            0   \n",
              "\n",
              "      MesesDeContrato  CuentaMensual  VariasLineasTelefonicas_No  \\\n",
              "7049                1      79.446255                           1   \n",
              "7864               29      69.110787                           1   \n",
              "6840                1      19.300000                           1   \n",
              "7243               51      97.859087                           0   \n",
              "6937               28      35.750000                           0   \n",
              "\n",
              "      VariasLineasTelefonicas_Si  \\\n",
              "7049                           0   \n",
              "7864                           0   \n",
              "6840                           0   \n",
              "7243                           1   \n",
              "6937                           0   \n",
              "\n",
              "      VariasLineasTelefonicas_SinServicioTelefonico  ServicioDeInternet_DSL  \\\n",
              "7049                                              0                       0   \n",
              "7864                                              0                       0   \n",
              "6840                                              0                       0   \n",
              "7243                                              0                       0   \n",
              "6937                                              1                       1   \n",
              "\n",
              "      ServicioDeInternet_FibraOptica  ServicioDeInternet_No  \\\n",
              "7049                               1                      0   \n",
              "7864                               0                      0   \n",
              "6840                               0                      1   \n",
              "7243                               1                      0   \n",
              "6937                               0                      0   \n",
              "\n",
              "      SeguridadOnline_No  SeguridadOnline_Si  \\\n",
              "7049                   1                   0   \n",
              "7864                   0                   0   \n",
              "6840                   0                   0   \n",
              "7243                   1                   0   \n",
              "6937                   1                   0   \n",
              "\n",
              "      SeguridadOnline_SinServicioDeInternet  BackupOnline_No  BackupOnline_Si  \\\n",
              "7049                                      0                1                0   \n",
              "7864                                      0                0                0   \n",
              "6840                                      1                0                0   \n",
              "7243                                      0                0                0   \n",
              "6937                                      0                1                0   \n",
              "\n",
              "      BackupOnline_SinServicioDeInternet  SeguroEnDispositivo_No  \\\n",
              "7049                                   0                       1   \n",
              "7864                                   0                       0   \n",
              "6840                                   1                       0   \n",
              "7243                                   0                       0   \n",
              "6937                                   0                       0   \n",
              "\n",
              "      SeguroEnDispositivo_Si  SeguroEnDispositivo_SinServicioDeInternet  \\\n",
              "7049                       0                                          0   \n",
              "7864                       0                                          0   \n",
              "6840                       0                                          1   \n",
              "7243                       0                                          0   \n",
              "6937                       1                                          0   \n",
              "\n",
              "      SoporteTecnico_No  SoporteTecnico_Si  \\\n",
              "7049                  1                  0   \n",
              "7864                  1                  0   \n",
              "6840                  0                  0   \n",
              "7243                  1                  0   \n",
              "6937                  0                  1   \n",
              "\n",
              "      SoporteTecnico_SinServicioDeInternet  TVaCable_No  TVaCable_Si  \\\n",
              "7049                                     0            0            1   \n",
              "7864                                     0            1            0   \n",
              "6840                                     1            0            0   \n",
              "7243                                     0            0            1   \n",
              "6937                                     0            1            0   \n",
              "\n",
              "      TVaCable_SinServicioDeInternet  StreamingDePeliculas_No  \\\n",
              "7049                               0                        1   \n",
              "7864                               0                        0   \n",
              "6840                               1                        0   \n",
              "7243                               0                        0   \n",
              "6937                               0                        1   \n",
              "\n",
              "      StreamingDePeliculas_Si  StreamingDePeliculas_SinServicioDeInternet  \\\n",
              "7049                        0                                           0   \n",
              "7864                        0                                           0   \n",
              "6840                        0                                           1   \n",
              "7243                        1                                           0   \n",
              "6937                        0                                           0   \n",
              "\n",
              "      TipoDeContrato_Anual  TipoDeContrato_Bienal  TipoDeContrato_Mensual  \\\n",
              "7049                     0                      0                       1   \n",
              "7864                     0                      0                       1   \n",
              "6840                     0                      0                       1   \n",
              "7243                     0                      0                       1   \n",
              "6937                     0                      0                       1   \n",
              "\n",
              "      FormaDePago_ChequeDigital  FormaDePago_ChequePapel  \\\n",
              "7049                          1                        0   \n",
              "7864                          0                        0   \n",
              "6840                          0                        1   \n",
              "7243                          0                        0   \n",
              "6937                          0                        1   \n",
              "\n",
              "      FormaDePago_DebitoAutomatico  FormaDePago_TarjetaDeCredito  Churn  \n",
              "7049                             0                             0      1  \n",
              "7864                             0                             0      1  \n",
              "6840                             0                             0      0  \n",
              "7243                             0                             0      1  \n",
              "6937                             0                             0      0  "
            ],
            "text/html": [
              "\n",
              "  <div id=\"df-c6cf48bc-d775-49d5-9661-d976ebf35fc9\">\n",
              "    <div class=\"colab-df-container\">\n",
              "      <div>\n",
              "<style scoped>\n",
              "    .dataframe tbody tr th:only-of-type {\n",
              "        vertical-align: middle;\n",
              "    }\n",
              "\n",
              "    .dataframe tbody tr th {\n",
              "        vertical-align: top;\n",
              "    }\n",
              "\n",
              "    .dataframe thead th {\n",
              "        text-align: right;\n",
              "    }\n",
              "</style>\n",
              "<table border=\"1\" class=\"dataframe\">\n",
              "  <thead>\n",
              "    <tr style=\"text-align: right;\">\n",
              "      <th></th>\n",
              "      <th>Conyuge</th>\n",
              "      <th>Dependientes</th>\n",
              "      <th>TelefonoFijo</th>\n",
              "      <th>PagoOnline</th>\n",
              "      <th>Mayor65Anos</th>\n",
              "      <th>MesesDeContrato</th>\n",
              "      <th>CuentaMensual</th>\n",
              "      <th>VariasLineasTelefonicas_No</th>\n",
              "      <th>VariasLineasTelefonicas_Si</th>\n",
              "      <th>VariasLineasTelefonicas_SinServicioTelefonico</th>\n",
              "      <th>ServicioDeInternet_DSL</th>\n",
              "      <th>ServicioDeInternet_FibraOptica</th>\n",
              "      <th>ServicioDeInternet_No</th>\n",
              "      <th>SeguridadOnline_No</th>\n",
              "      <th>SeguridadOnline_Si</th>\n",
              "      <th>SeguridadOnline_SinServicioDeInternet</th>\n",
              "      <th>BackupOnline_No</th>\n",
              "      <th>BackupOnline_Si</th>\n",
              "      <th>BackupOnline_SinServicioDeInternet</th>\n",
              "      <th>SeguroEnDispositivo_No</th>\n",
              "      <th>SeguroEnDispositivo_Si</th>\n",
              "      <th>SeguroEnDispositivo_SinServicioDeInternet</th>\n",
              "      <th>SoporteTecnico_No</th>\n",
              "      <th>SoporteTecnico_Si</th>\n",
              "      <th>SoporteTecnico_SinServicioDeInternet</th>\n",
              "      <th>TVaCable_No</th>\n",
              "      <th>TVaCable_Si</th>\n",
              "      <th>TVaCable_SinServicioDeInternet</th>\n",
              "      <th>StreamingDePeliculas_No</th>\n",
              "      <th>StreamingDePeliculas_Si</th>\n",
              "      <th>StreamingDePeliculas_SinServicioDeInternet</th>\n",
              "      <th>TipoDeContrato_Anual</th>\n",
              "      <th>TipoDeContrato_Bienal</th>\n",
              "      <th>TipoDeContrato_Mensual</th>\n",
              "      <th>FormaDePago_ChequeDigital</th>\n",
              "      <th>FormaDePago_ChequePapel</th>\n",
              "      <th>FormaDePago_DebitoAutomatico</th>\n",
              "      <th>FormaDePago_TarjetaDeCredito</th>\n",
              "      <th>Churn</th>\n",
              "    </tr>\n",
              "  </thead>\n",
              "  <tbody>\n",
              "    <tr>\n",
              "      <th>7049</th>\n",
              "      <td>0</td>\n",
              "      <td>0</td>\n",
              "      <td>1</td>\n",
              "      <td>1</td>\n",
              "      <td>0</td>\n",
              "      <td>1</td>\n",
              "      <td>79.446255</td>\n",
              "      <td>1</td>\n",
              "      <td>0</td>\n",
              "      <td>0</td>\n",
              "      <td>0</td>\n",
              "      <td>1</td>\n",
              "      <td>0</td>\n",
              "      <td>1</td>\n",
              "      <td>0</td>\n",
              "      <td>0</td>\n",
              "      <td>1</td>\n",
              "      <td>0</td>\n",
              "      <td>0</td>\n",
              "      <td>1</td>\n",
              "      <td>0</td>\n",
              "      <td>0</td>\n",
              "      <td>1</td>\n",
              "      <td>0</td>\n",
              "      <td>0</td>\n",
              "      <td>0</td>\n",
              "      <td>1</td>\n",
              "      <td>0</td>\n",
              "      <td>1</td>\n",
              "      <td>0</td>\n",
              "      <td>0</td>\n",
              "      <td>0</td>\n",
              "      <td>0</td>\n",
              "      <td>1</td>\n",
              "      <td>1</td>\n",
              "      <td>0</td>\n",
              "      <td>0</td>\n",
              "      <td>0</td>\n",
              "      <td>1</td>\n",
              "    </tr>\n",
              "    <tr>\n",
              "      <th>7864</th>\n",
              "      <td>0</td>\n",
              "      <td>0</td>\n",
              "      <td>1</td>\n",
              "      <td>1</td>\n",
              "      <td>0</td>\n",
              "      <td>29</td>\n",
              "      <td>69.110787</td>\n",
              "      <td>1</td>\n",
              "      <td>0</td>\n",
              "      <td>0</td>\n",
              "      <td>0</td>\n",
              "      <td>0</td>\n",
              "      <td>0</td>\n",
              "      <td>0</td>\n",
              "      <td>0</td>\n",
              "      <td>0</td>\n",
              "      <td>0</td>\n",
              "      <td>0</td>\n",
              "      <td>0</td>\n",
              "      <td>0</td>\n",
              "      <td>0</td>\n",
              "      <td>0</td>\n",
              "      <td>1</td>\n",
              "      <td>0</td>\n",
              "      <td>0</td>\n",
              "      <td>1</td>\n",
              "      <td>0</td>\n",
              "      <td>0</td>\n",
              "      <td>0</td>\n",
              "      <td>0</td>\n",
              "      <td>0</td>\n",
              "      <td>0</td>\n",
              "      <td>0</td>\n",
              "      <td>1</td>\n",
              "      <td>0</td>\n",
              "      <td>0</td>\n",
              "      <td>0</td>\n",
              "      <td>0</td>\n",
              "      <td>1</td>\n",
              "    </tr>\n",
              "    <tr>\n",
              "      <th>6840</th>\n",
              "      <td>0</td>\n",
              "      <td>1</td>\n",
              "      <td>1</td>\n",
              "      <td>1</td>\n",
              "      <td>0</td>\n",
              "      <td>1</td>\n",
              "      <td>19.300000</td>\n",
              "      <td>1</td>\n",
              "      <td>0</td>\n",
              "      <td>0</td>\n",
              "      <td>0</td>\n",
              "      <td>0</td>\n",
              "      <td>1</td>\n",
              "      <td>0</td>\n",
              "      <td>0</td>\n",
              "      <td>1</td>\n",
              "      <td>0</td>\n",
              "      <td>0</td>\n",
              "      <td>1</td>\n",
              "      <td>0</td>\n",
              "      <td>0</td>\n",
              "      <td>1</td>\n",
              "      <td>0</td>\n",
              "      <td>0</td>\n",
              "      <td>1</td>\n",
              "      <td>0</td>\n",
              "      <td>0</td>\n",
              "      <td>1</td>\n",
              "      <td>0</td>\n",
              "      <td>0</td>\n",
              "      <td>1</td>\n",
              "      <td>0</td>\n",
              "      <td>0</td>\n",
              "      <td>1</td>\n",
              "      <td>0</td>\n",
              "      <td>1</td>\n",
              "      <td>0</td>\n",
              "      <td>0</td>\n",
              "      <td>0</td>\n",
              "    </tr>\n",
              "    <tr>\n",
              "      <th>7243</th>\n",
              "      <td>0</td>\n",
              "      <td>0</td>\n",
              "      <td>1</td>\n",
              "      <td>1</td>\n",
              "      <td>0</td>\n",
              "      <td>51</td>\n",
              "      <td>97.859087</td>\n",
              "      <td>0</td>\n",
              "      <td>1</td>\n",
              "      <td>0</td>\n",
              "      <td>0</td>\n",
              "      <td>1</td>\n",
              "      <td>0</td>\n",
              "      <td>1</td>\n",
              "      <td>0</td>\n",
              "      <td>0</td>\n",
              "      <td>0</td>\n",
              "      <td>0</td>\n",
              "      <td>0</td>\n",
              "      <td>0</td>\n",
              "      <td>0</td>\n",
              "      <td>0</td>\n",
              "      <td>1</td>\n",
              "      <td>0</td>\n",
              "      <td>0</td>\n",
              "      <td>0</td>\n",
              "      <td>1</td>\n",
              "      <td>0</td>\n",
              "      <td>0</td>\n",
              "      <td>1</td>\n",
              "      <td>0</td>\n",
              "      <td>0</td>\n",
              "      <td>0</td>\n",
              "      <td>1</td>\n",
              "      <td>0</td>\n",
              "      <td>0</td>\n",
              "      <td>0</td>\n",
              "      <td>0</td>\n",
              "      <td>1</td>\n",
              "    </tr>\n",
              "    <tr>\n",
              "      <th>6937</th>\n",
              "      <td>0</td>\n",
              "      <td>0</td>\n",
              "      <td>0</td>\n",
              "      <td>1</td>\n",
              "      <td>0</td>\n",
              "      <td>28</td>\n",
              "      <td>35.750000</td>\n",
              "      <td>0</td>\n",
              "      <td>0</td>\n",
              "      <td>1</td>\n",
              "      <td>1</td>\n",
              "      <td>0</td>\n",
              "      <td>0</td>\n",
              "      <td>1</td>\n",
              "      <td>0</td>\n",
              "      <td>0</td>\n",
              "      <td>1</td>\n",
              "      <td>0</td>\n",
              "      <td>0</td>\n",
              "      <td>0</td>\n",
              "      <td>1</td>\n",
              "      <td>0</td>\n",
              "      <td>0</td>\n",
              "      <td>1</td>\n",
              "      <td>0</td>\n",
              "      <td>1</td>\n",
              "      <td>0</td>\n",
              "      <td>0</td>\n",
              "      <td>1</td>\n",
              "      <td>0</td>\n",
              "      <td>0</td>\n",
              "      <td>0</td>\n",
              "      <td>0</td>\n",
              "      <td>1</td>\n",
              "      <td>0</td>\n",
              "      <td>1</td>\n",
              "      <td>0</td>\n",
              "      <td>0</td>\n",
              "      <td>0</td>\n",
              "    </tr>\n",
              "  </tbody>\n",
              "</table>\n",
              "</div>\n",
              "      <button class=\"colab-df-convert\" onclick=\"convertToInteractive('df-c6cf48bc-d775-49d5-9661-d976ebf35fc9')\"\n",
              "              title=\"Convert this dataframe to an interactive table.\"\n",
              "              style=\"display:none;\">\n",
              "        \n",
              "  <svg xmlns=\"http://www.w3.org/2000/svg\" height=\"24px\"viewBox=\"0 0 24 24\"\n",
              "       width=\"24px\">\n",
              "    <path d=\"M0 0h24v24H0V0z\" fill=\"none\"/>\n",
              "    <path d=\"M18.56 5.44l.94 2.06.94-2.06 2.06-.94-2.06-.94-.94-2.06-.94 2.06-2.06.94zm-11 1L8.5 8.5l.94-2.06 2.06-.94-2.06-.94L8.5 2.5l-.94 2.06-2.06.94zm10 10l.94 2.06.94-2.06 2.06-.94-2.06-.94-.94-2.06-.94 2.06-2.06.94z\"/><path d=\"M17.41 7.96l-1.37-1.37c-.4-.4-.92-.59-1.43-.59-.52 0-1.04.2-1.43.59L10.3 9.45l-7.72 7.72c-.78.78-.78 2.05 0 2.83L4 21.41c.39.39.9.59 1.41.59.51 0 1.02-.2 1.41-.59l7.78-7.78 2.81-2.81c.8-.78.8-2.07 0-2.86zM5.41 20L4 18.59l7.72-7.72 1.47 1.35L5.41 20z\"/>\n",
              "  </svg>\n",
              "      </button>\n",
              "      \n",
              "  <style>\n",
              "    .colab-df-container {\n",
              "      display:flex;\n",
              "      flex-wrap:wrap;\n",
              "      gap: 12px;\n",
              "    }\n",
              "\n",
              "    .colab-df-convert {\n",
              "      background-color: #E8F0FE;\n",
              "      border: none;\n",
              "      border-radius: 50%;\n",
              "      cursor: pointer;\n",
              "      display: none;\n",
              "      fill: #1967D2;\n",
              "      height: 32px;\n",
              "      padding: 0 0 0 0;\n",
              "      width: 32px;\n",
              "    }\n",
              "\n",
              "    .colab-df-convert:hover {\n",
              "      background-color: #E2EBFA;\n",
              "      box-shadow: 0px 1px 2px rgba(60, 64, 67, 0.3), 0px 1px 3px 1px rgba(60, 64, 67, 0.15);\n",
              "      fill: #174EA6;\n",
              "    }\n",
              "\n",
              "    [theme=dark] .colab-df-convert {\n",
              "      background-color: #3B4455;\n",
              "      fill: #D2E3FC;\n",
              "    }\n",
              "\n",
              "    [theme=dark] .colab-df-convert:hover {\n",
              "      background-color: #434B5C;\n",
              "      box-shadow: 0px 1px 3px 1px rgba(0, 0, 0, 0.15);\n",
              "      filter: drop-shadow(0px 1px 2px rgba(0, 0, 0, 0.3));\n",
              "      fill: #FFFFFF;\n",
              "    }\n",
              "  </style>\n",
              "\n",
              "      <script>\n",
              "        const buttonEl =\n",
              "          document.querySelector('#df-c6cf48bc-d775-49d5-9661-d976ebf35fc9 button.colab-df-convert');\n",
              "        buttonEl.style.display =\n",
              "          google.colab.kernel.accessAllowed ? 'block' : 'none';\n",
              "\n",
              "        async function convertToInteractive(key) {\n",
              "          const element = document.querySelector('#df-c6cf48bc-d775-49d5-9661-d976ebf35fc9');\n",
              "          const dataTable =\n",
              "            await google.colab.kernel.invokeFunction('convertToInteractive',\n",
              "                                                     [key], {});\n",
              "          if (!dataTable) return;\n",
              "\n",
              "          const docLinkHtml = 'Like what you see? Visit the ' +\n",
              "            '<a target=\"_blank\" href=https://colab.research.google.com/notebooks/data_table.ipynb>data table notebook</a>'\n",
              "            + ' to learn more about interactive tables.';\n",
              "          element.innerHTML = '';\n",
              "          dataTable['output_type'] = 'display_data';\n",
              "          await google.colab.output.renderOutput(dataTable, element);\n",
              "          const docLink = document.createElement('div');\n",
              "          docLink.innerHTML = docLinkHtml;\n",
              "          element.appendChild(docLink);\n",
              "        }\n",
              "      </script>\n",
              "    </div>\n",
              "  </div>\n",
              "  "
            ]
          },
          "metadata": {},
          "execution_count": 17
        }
      ]
    },
    {
      "cell_type": "code",
      "source": [
        "datos_final.Churn.value_counts()"
      ],
      "metadata": {
        "colab": {
          "base_uri": "https://localhost:8080/"
        },
        "id": "TIkSLryWiksX",
        "outputId": "c7a64733-3feb-4d00-f60f-f958e2c16682"
      },
      "execution_count": 18,
      "outputs": [
        {
          "output_type": "execute_result",
          "data": {
            "text/plain": [
              "0    5174\n",
              "1    5174\n",
              "Name: Churn, dtype: int64"
            ]
          },
          "metadata": {},
          "execution_count": 18
        }
      ]
    },
    {
      "cell_type": "code",
      "source": [
        "sns.countplot(x='Churn', data= datos_final)"
      ],
      "metadata": {
        "colab": {
          "base_uri": "https://localhost:8080/",
          "height": 297
        },
        "id": "hTQ80wDjkA-_",
        "outputId": "f44c6a85-2e42-4fe9-e608-73a6c6ecd149"
      },
      "execution_count": 19,
      "outputs": [
        {
          "output_type": "execute_result",
          "data": {
            "text/plain": [
              "<matplotlib.axes._subplots.AxesSubplot at 0x7f9480c23a50>"
            ]
          },
          "metadata": {},
          "execution_count": 19
        },
        {
          "output_type": "display_data",
          "data": {
            "text/plain": [
              "<Figure size 432x288 with 1 Axes>"
            ],
            "image/png": "[encoded data removed]"
          },
          "metadata": {
            "needs_background": "light"
          }
        }
      ]
    },
    {
      "cell_type": "markdown",
      "source": [
        "## Aula 2"
      ],
      "metadata": {
        "id": "gcJbgkeEawhE"
      }
    },
    {
      "cell_type": "markdown",
      "source": [
        "### 2.2 KNN entre bastidores"
      ],
      "metadata": {
        "id": "pxwhvMLkazgJ"
      }
    },
    {
      "cell_type": "code",
      "source": [
        "Xmaria"
      ],
      "metadata": {
        "colab": {
          "base_uri": "https://localhost:8080/"
        },
        "id": "leWerzi-axyo",
        "outputId": "9615eb72-adce-49ee-c46b-5a2615be4016"
      },
      "execution_count": 20,
      "outputs": [
        {
          "output_type": "execute_result",
          "data": {
            "text/plain": [
              "[[0,\n",
              "  0,\n",
              "  1,\n",
              "  1,\n",
              "  0,\n",
              "  0,\n",
              "  39.9,\n",
              "  1,\n",
              "  0,\n",
              "  0,\n",
              "  0,\n",
              "  1,\n",
              "  0,\n",
              "  1,\n",
              "  0,\n",
              "  0,\n",
              "  0,\n",
              "  0,\n",
              "  1,\n",
              "  1,\n",
              "  1,\n",
              "  0,\n",
              "  0,\n",
              "  1,\n",
              "  0,\n",
              "  1,\n",
              "  0,\n",
              "  0,\n",
              "  0,\n",
              "  0,\n",
              "  1,\n",
              "  0,\n",
              "  0,\n",
              "  1,\n",
              "  0,\n",
              "  0,\n",
              "  0,\n",
              "  1]]"
            ]
          },
          "metadata": {},
          "execution_count": 20
        }
      ]
    },
    {
      "cell_type": "code",
      "source": [
        "#ymaria = ?"
      ],
      "metadata": {
        "id": "GsWC4vdka8P5"
      },
      "execution_count": 21,
      "outputs": []
    },
    {
      "cell_type": "code",
      "source": [
        "X = datos_final.drop(columns='Churn', axis=1)\n",
        "y = datos_final['Churn']"
      ],
      "metadata": {
        "id": "sBgNAZRRlUMP"
      },
      "execution_count": 22,
      "outputs": []
    },
    {
      "cell_type": "code",
      "source": [
        "from sklearn.preprocessing import StandardScaler\n",
        "\n",
        "scaler = StandardScaler()\n",
        "X_std = scaler.fit_transform(X)"
      ],
      "metadata": {
        "id": "pnhCaoL8lUO5"
      },
      "execution_count": 23,
      "outputs": []
    },
    {
      "cell_type": "code",
      "source": [
        "X_std[0]"
      ],
      "metadata": {
        "colab": {
          "base_uri": "https://localhost:8080/"
        },
        "id": "FZOAu6eIa8Sq",
        "outputId": "1103280d-7180-45b9-d856-f064df064032"
      },
      "execution_count": 24,
      "outputs": [
        {
          "output_type": "execute_result",
          "data": {
            "text/plain": [
              "array([ 1.26542767, -0.52756038, -3.06083934,  0.8149851 , -0.41334384,\n",
              "       -1.10768354, -1.32176205, -0.88482108, -0.83366906,  3.18604176,\n",
              "        1.51268338, -1.04386816, -0.44617598,  0.868102  , -0.5173695 ,\n",
              "       -0.44617598, -0.95871762,  1.57389661, -0.44617598,  1.04326198,\n",
              "       -0.64211419, -0.44617598,  0.87997069, -0.52426638, -0.44617598,\n",
              "        1.18643645, -0.77707385, -0.44617598,  1.2033586 , -0.78992399,\n",
              "       -0.44617598, -0.41989297, -0.44648735,  0.73773107,  1.30292044,\n",
              "       -0.47943196, -0.43617215, -0.42576817])"
            ]
          },
          "metadata": {},
          "execution_count": 24
        }
      ]
    },
    {
      "cell_type": "code",
      "source": [
        "Xmaria_std = scaler.transform(pd.DataFrame(Xmaria, columns=X.columns))"
      ],
      "metadata": {
        "id": "6OLMnnvumMGL"
      },
      "execution_count": 25,
      "outputs": []
    },
    {
      "cell_type": "markdown",
      "source": [
        "Distancia Euclidiana:\n",
        "\n",
        "$$\\sqrt{\\sum_{i=1}^k(a_{i}-b_{i})^2}$$"
      ],
      "metadata": {
        "id": "33x1WKuNkyfj"
      }
    },
    {
      "cell_type": "code",
      "source": [
        "import numpy as np\n",
        "\n",
        "a = Xmaria_std\n",
        "b = X_std[0]\n",
        "exponenciacion = np.square(a-b)\n",
        "suma = np.sum(exponenciacion)\n",
        "distancia = np.sqrt(suma)\n",
        "print(f'La distancia euclidiana de María con respecto al primer registro del dataset es: {distancia}')"
      ],
      "metadata": {
        "colab": {
          "base_uri": "https://localhost:8080/"
        },
        "id": "88OoGD7Qk415",
        "outputId": "9e2f4d54-577e-4cc1-a27e-907190936f3f"
      },
      "execution_count": 26,
      "outputs": [
        {
          "output_type": "stream",
          "name": "stdout",
          "text": [
            "La distancia euclidiana de María con respecto al primer registro del dataset es: 9.546326613865215\n"
          ]
        }
      ]
    },
    {
      "cell_type": "markdown",
      "source": [
        "### 2.3 Implementando el modelo KNN"
      ],
      "metadata": {
        "id": "x7MOiHlhkqa7"
      }
    },
    {
      "cell_type": "code",
      "source": [
        "from sklearn.model_selection import train_test_split\n",
        "\n",
        "X_train, X_test, y_train, y_test = train_test_split(X,y,test_size=0.3, random_state=123)"
      ],
      "metadata": {
        "id": "Zz7qtoxzktmR"
      },
      "execution_count": 27,
      "outputs": []
    },
    {
      "cell_type": "code",
      "source": [
        "from sklearn.neighbors import KNeighborsClassifier\n",
        "\n",
        "knn = KNeighborsClassifier(metric='euclidean')\n",
        "knn.fit(X_train,y_train)"
      ],
      "metadata": {
        "colab": {
          "base_uri": "https://localhost:8080/"
        },
        "id": "bWGF5RDOkuBV",
        "outputId": "cad69b33-0c5a-436c-888c-e141deabaf11"
      },
      "execution_count": 28,
      "outputs": [
        {
          "output_type": "execute_result",
          "data": {
            "text/plain": [
              "KNeighborsClassifier(metric='euclidean')"
            ]
          },
          "metadata": {},
          "execution_count": 28
        }
      ]
    },
    {
      "cell_type": "code",
      "source": [
        "prevision_knn = knn.predict(X_test)"
      ],
      "metadata": {
        "id": "qLLvMx9dkuD9"
      },
      "execution_count": 29,
      "outputs": []
    },
    {
      "cell_type": "code",
      "source": [
        "prevision_knn"
      ],
      "metadata": {
        "colab": {
          "base_uri": "https://localhost:8080/"
        },
        "id": "fFJ2Ok-BrHmA",
        "outputId": "038beb9b-62ba-45ed-8abe-b49607ae7ca2"
      },
      "execution_count": 30,
      "outputs": [
        {
          "output_type": "execute_result",
          "data": {
            "text/plain": [
              "array([1, 0, 1, ..., 1, 1, 1])"
            ]
          },
          "metadata": {},
          "execution_count": 30
        }
      ]
    },
    {
      "cell_type": "markdown",
      "source": [
        "## Aula 3"
      ],
      "metadata": {
        "id": "eR7GwgGFpIYy"
      }
    },
    {
      "cell_type": "markdown",
      "source": [
        "### 3.3 Implementando el modelo Bernoulli Naive Bayes"
      ],
      "metadata": {
        "id": "2TORvjaqpKGp"
      }
    },
    {
      "cell_type": "code",
      "source": [
        ""
      ],
      "metadata": {
        "id": "60MSIlp_F9Ou"
      },
      "execution_count": null,
      "outputs": []
    },
    {
      "cell_type": "code",
      "source": [
        ""
      ],
      "metadata": {
        "id": "uf4Amz3AF9R2"
      },
      "execution_count": null,
      "outputs": []
    },
    {
      "cell_type": "code",
      "source": [
        ""
      ],
      "metadata": {
        "id": "eNimJaz0F9VI"
      },
      "execution_count": null,
      "outputs": []
    },
    {
      "cell_type": "markdown",
      "source": [
        "## Aula 4"
      ],
      "metadata": {
        "id": "VxcunjjspTkA"
      }
    },
    {
      "cell_type": "markdown",
      "source": [
        "### 4.3 Implementando el modelo de Árbol de Decisión"
      ],
      "metadata": {
        "id": "uxQOvvR_pbQ3"
      }
    },
    {
      "cell_type": "code",
      "source": [
        ""
      ],
      "metadata": {
        "id": "3PO2nTk6FlfV"
      },
      "execution_count": null,
      "outputs": []
    },
    {
      "cell_type": "code",
      "source": [
        ""
      ],
      "metadata": {
        "id": "MQIJlr3LFliK"
      },
      "execution_count": null,
      "outputs": []
    },
    {
      "cell_type": "code",
      "source": [
        ""
      ],
      "metadata": {
        "id": "PAs-zC0dFlpc"
      },
      "execution_count": null,
      "outputs": []
    },
    {
      "cell_type": "markdown",
      "source": [
        "## Aula 5"
      ],
      "metadata": {
        "id": "osnSgpP9v6jA"
      }
    },
    {
      "cell_type": "markdown",
      "source": [
        "### 5.1 Matriz de Confusión"
      ],
      "metadata": {
        "id": "9Ob2RiLLv8xp"
      }
    },
    {
      "cell_type": "markdown",
      "source": [
        "![img](https://miro.medium.com/max/799/1*XsFcyoLXNdAkbSfNGnxhEg.png)"
      ],
      "metadata": {
        "id": "7BmtcS9vxBEE"
      }
    },
    {
      "cell_type": "code",
      "source": [
        ""
      ],
      "metadata": {
        "id": "TncQZkafFZQm"
      },
      "execution_count": null,
      "outputs": []
    },
    {
      "cell_type": "code",
      "source": [
        ""
      ],
      "metadata": {
        "id": "1NRybdx4FZXo"
      },
      "execution_count": null,
      "outputs": []
    },
    {
      "cell_type": "code",
      "source": [
        ""
      ],
      "metadata": {
        "id": "oC0EBl6RFZgm"
      },
      "execution_count": null,
      "outputs": []
    },
    {
      "cell_type": "markdown",
      "source": [
        "### 5.2 Exactitud\n",
        "\n",
        "> A partir del cálculo de la matriz de confusión logramos inferir otras métricas, como por ejemplo la exactitud.\n",
        "\n",
        "$exactitud$ = ${TP + TN \\over TP + FP + TN + FN}$"
      ],
      "metadata": {
        "id": "Hbmc8xQLwHqc"
      }
    },
    {
      "cell_type": "code",
      "source": [
        ""
      ],
      "metadata": {
        "id": "ux8F5bjpFV32"
      },
      "execution_count": null,
      "outputs": []
    },
    {
      "cell_type": "code",
      "source": [
        ""
      ],
      "metadata": {
        "id": "pqg-BduYFV6d"
      },
      "execution_count": null,
      "outputs": []
    },
    {
      "cell_type": "code",
      "source": [
        ""
      ],
      "metadata": {
        "id": "_tjEPeEKFWF7"
      },
      "execution_count": null,
      "outputs": []
    },
    {
      "cell_type": "markdown",
      "source": [
        "### 5.3 Precisión\n",
        "\n",
        "> Otra métrica importante es la precisión, que calcula cuántas observaciones fueron clasificadas correctamente como positivas ($TP$).\n",
        "\n",
        "$precision$ = ${TP \\over TP + FP}$"
      ],
      "metadata": {
        "id": "7i0kFprGwM_N"
      }
    },
    {
      "cell_type": "code",
      "source": [
        ""
      ],
      "metadata": {
        "id": "jXv54wptFTRV"
      },
      "execution_count": null,
      "outputs": []
    },
    {
      "cell_type": "code",
      "source": [
        ""
      ],
      "metadata": {
        "id": "IuLFOMtqFTX-"
      },
      "execution_count": null,
      "outputs": []
    },
    {
      "cell_type": "code",
      "source": [
        ""
      ],
      "metadata": {
        "id": "2qw9yPObFTeT"
      },
      "execution_count": null,
      "outputs": []
    },
    {
      "cell_type": "markdown",
      "source": [
        "### 5.4 Recall\n",
        "\n",
        "> Además, existe una métrica conocida como Recall o sensibilidad, que calcula qué tan bien el modelo clasifica correctamente un resultado positivo ($TP$).\n",
        "\n",
        "$recall$ = ${TP \\over TP + FN}$\n"
      ],
      "metadata": {
        "id": "Ey1SvcbhwR3d"
      }
    },
    {
      "cell_type": "code",
      "source": [
        ""
      ],
      "metadata": {
        "id": "DAiJW2xPFQ5Q"
      },
      "execution_count": null,
      "outputs": []
    },
    {
      "cell_type": "code",
      "source": [
        ""
      ],
      "metadata": {
        "id": "FsJkc4DTFRHl"
      },
      "execution_count": null,
      "outputs": []
    },
    {
      "cell_type": "code",
      "source": [
        ""
      ],
      "metadata": {
        "id": "r7w82FewFRPk"
      },
      "execution_count": null,
      "outputs": []
    }
  ]
}